{
  "cells": [
    {
      "cell_type": "markdown",
      "metadata": {
        "id": "v5hvo8QWN-a9"
      },
      "source": [
        "# Translate with your own voice - Whisper\n",
        "\n",
        "> PhD. Joel Omar Juarez Gambino\n",
        "\n",
        "Team:\n",
        "\n",
        "* Armas Ramirez Daniel\n",
        "* Prezas Bernal Emiliano\n",
        "* Escamilla Gachuz Karla Escamilla\n",
        "* Dorado Alcala Nathaly\n",
        "\n",
        "## Experiment 2 using Whisper\n",
        "\n",
        "1. Install tools, mode dependencies\n",
        "\n",
        "Download Whisper\n"
      ]
    },
    {
      "cell_type": "code",
      "execution_count": 3,
      "metadata": {
        "id": "ZsJUxc0aRsAf",
        "colab": {
          "base_uri": "https://localhost:8080/"
        },
        "outputId": "09f8b5cd-ab8f-426a-94b5-0dcfdd773354"
      },
      "outputs": [
        {
          "output_type": "stream",
          "name": "stdout",
          "text": [
            "Collecting git+https://github.com/openai/whisper.git\n",
            "  Cloning https://github.com/openai/whisper.git to /tmp/pip-req-build-bhe1koow\n",
            "  Running command git clone --filter=blob:none --quiet https://github.com/openai/whisper.git /tmp/pip-req-build-bhe1koow\n",
            "  Resolved https://github.com/openai/whisper.git to commit dd985ac4b90cafeef8712f2998d62c59c3e62d22\n",
            "  Installing build dependencies ... \u001b[?25l\u001b[?25hdone\n",
            "  Getting requirements to build wheel ... \u001b[?25l\u001b[?25hdone\n",
            "  Preparing metadata (pyproject.toml) ... \u001b[?25l\u001b[?25hdone\n",
            "Requirement already satisfied: more-itertools in /usr/local/lib/python3.11/dist-packages (from openai-whisper==20240930) (10.7.0)\n",
            "Requirement already satisfied: numba in /usr/local/lib/python3.11/dist-packages (from openai-whisper==20240930) (0.60.0)\n",
            "Requirement already satisfied: numpy in /usr/local/lib/python3.11/dist-packages (from openai-whisper==20240930) (2.0.2)\n",
            "Requirement already satisfied: tiktoken in /usr/local/lib/python3.11/dist-packages (from openai-whisper==20240930) (0.9.0)\n",
            "Requirement already satisfied: torch in /usr/local/lib/python3.11/dist-packages (from openai-whisper==20240930) (2.6.0+cu124)\n",
            "Requirement already satisfied: tqdm in /usr/local/lib/python3.11/dist-packages (from openai-whisper==20240930) (4.67.1)\n",
            "Requirement already satisfied: triton>=2 in /usr/local/lib/python3.11/dist-packages (from openai-whisper==20240930) (3.2.0)\n",
            "Requirement already satisfied: llvmlite<0.44,>=0.43.0dev0 in /usr/local/lib/python3.11/dist-packages (from numba->openai-whisper==20240930) (0.43.0)\n",
            "Requirement already satisfied: regex>=2022.1.18 in /usr/local/lib/python3.11/dist-packages (from tiktoken->openai-whisper==20240930) (2024.11.6)\n",
            "Requirement already satisfied: requests>=2.26.0 in /usr/local/lib/python3.11/dist-packages (from tiktoken->openai-whisper==20240930) (2.32.3)\n",
            "Requirement already satisfied: filelock in /usr/local/lib/python3.11/dist-packages (from torch->openai-whisper==20240930) (3.18.0)\n",
            "Requirement already satisfied: typing-extensions>=4.10.0 in /usr/local/lib/python3.11/dist-packages (from torch->openai-whisper==20240930) (4.14.0)\n",
            "Requirement already satisfied: networkx in /usr/local/lib/python3.11/dist-packages (from torch->openai-whisper==20240930) (3.5)\n",
            "Requirement already satisfied: jinja2 in /usr/local/lib/python3.11/dist-packages (from torch->openai-whisper==20240930) (3.1.6)\n",
            "Requirement already satisfied: fsspec in /usr/local/lib/python3.11/dist-packages (from torch->openai-whisper==20240930) (2025.3.2)\n",
            "Collecting nvidia-cuda-nvrtc-cu12==12.4.127 (from torch->openai-whisper==20240930)\n",
            "  Downloading nvidia_cuda_nvrtc_cu12-12.4.127-py3-none-manylinux2014_x86_64.whl.metadata (1.5 kB)\n",
            "Collecting nvidia-cuda-runtime-cu12==12.4.127 (from torch->openai-whisper==20240930)\n",
            "  Downloading nvidia_cuda_runtime_cu12-12.4.127-py3-none-manylinux2014_x86_64.whl.metadata (1.5 kB)\n",
            "Collecting nvidia-cuda-cupti-cu12==12.4.127 (from torch->openai-whisper==20240930)\n",
            "  Downloading nvidia_cuda_cupti_cu12-12.4.127-py3-none-manylinux2014_x86_64.whl.metadata (1.6 kB)\n",
            "Collecting nvidia-cudnn-cu12==9.1.0.70 (from torch->openai-whisper==20240930)\n",
            "  Downloading nvidia_cudnn_cu12-9.1.0.70-py3-none-manylinux2014_x86_64.whl.metadata (1.6 kB)\n",
            "Collecting nvidia-cublas-cu12==12.4.5.8 (from torch->openai-whisper==20240930)\n",
            "  Downloading nvidia_cublas_cu12-12.4.5.8-py3-none-manylinux2014_x86_64.whl.metadata (1.5 kB)\n",
            "Collecting nvidia-cufft-cu12==11.2.1.3 (from torch->openai-whisper==20240930)\n",
            "  Downloading nvidia_cufft_cu12-11.2.1.3-py3-none-manylinux2014_x86_64.whl.metadata (1.5 kB)\n",
            "Collecting nvidia-curand-cu12==10.3.5.147 (from torch->openai-whisper==20240930)\n",
            "  Downloading nvidia_curand_cu12-10.3.5.147-py3-none-manylinux2014_x86_64.whl.metadata (1.5 kB)\n",
            "Collecting nvidia-cusolver-cu12==11.6.1.9 (from torch->openai-whisper==20240930)\n",
            "  Downloading nvidia_cusolver_cu12-11.6.1.9-py3-none-manylinux2014_x86_64.whl.metadata (1.6 kB)\n",
            "Collecting nvidia-cusparse-cu12==12.3.1.170 (from torch->openai-whisper==20240930)\n",
            "  Downloading nvidia_cusparse_cu12-12.3.1.170-py3-none-manylinux2014_x86_64.whl.metadata (1.6 kB)\n",
            "Requirement already satisfied: nvidia-cusparselt-cu12==0.6.2 in /usr/local/lib/python3.11/dist-packages (from torch->openai-whisper==20240930) (0.6.2)\n",
            "Requirement already satisfied: nvidia-nccl-cu12==2.21.5 in /usr/local/lib/python3.11/dist-packages (from torch->openai-whisper==20240930) (2.21.5)\n",
            "Requirement already satisfied: nvidia-nvtx-cu12==12.4.127 in /usr/local/lib/python3.11/dist-packages (from torch->openai-whisper==20240930) (12.4.127)\n",
            "Collecting nvidia-nvjitlink-cu12==12.4.127 (from torch->openai-whisper==20240930)\n",
            "  Downloading nvidia_nvjitlink_cu12-12.4.127-py3-none-manylinux2014_x86_64.whl.metadata (1.5 kB)\n",
            "Requirement already satisfied: sympy==1.13.1 in /usr/local/lib/python3.11/dist-packages (from torch->openai-whisper==20240930) (1.13.1)\n",
            "Requirement already satisfied: mpmath<1.4,>=1.1.0 in /usr/local/lib/python3.11/dist-packages (from sympy==1.13.1->torch->openai-whisper==20240930) (1.3.0)\n",
            "Requirement already satisfied: charset-normalizer<4,>=2 in /usr/local/lib/python3.11/dist-packages (from requests>=2.26.0->tiktoken->openai-whisper==20240930) (3.4.2)\n",
            "Requirement already satisfied: idna<4,>=2.5 in /usr/local/lib/python3.11/dist-packages (from requests>=2.26.0->tiktoken->openai-whisper==20240930) (3.10)\n",
            "Requirement already satisfied: urllib3<3,>=1.21.1 in /usr/local/lib/python3.11/dist-packages (from requests>=2.26.0->tiktoken->openai-whisper==20240930) (2.4.0)\n",
            "Requirement already satisfied: certifi>=2017.4.17 in /usr/local/lib/python3.11/dist-packages (from requests>=2.26.0->tiktoken->openai-whisper==20240930) (2025.4.26)\n",
            "Requirement already satisfied: MarkupSafe>=2.0 in /usr/local/lib/python3.11/dist-packages (from jinja2->torch->openai-whisper==20240930) (3.0.2)\n",
            "Downloading nvidia_cublas_cu12-12.4.5.8-py3-none-manylinux2014_x86_64.whl (363.4 MB)\n",
            "\u001b[2K   \u001b[90m━━━━━━━━━━━━━━━━━━━━━━━━━━━━━━━━━━━━━━━━\u001b[0m \u001b[32m363.4/363.4 MB\u001b[0m \u001b[31m4.6 MB/s\u001b[0m eta \u001b[36m0:00:00\u001b[0m\n",
            "\u001b[?25hDownloading nvidia_cuda_cupti_cu12-12.4.127-py3-none-manylinux2014_x86_64.whl (13.8 MB)\n",
            "\u001b[2K   \u001b[90m━━━━━━━━━━━━━━━━━━━━━━━━━━━━━━━━━━━━━━━━\u001b[0m \u001b[32m13.8/13.8 MB\u001b[0m \u001b[31m123.3 MB/s\u001b[0m eta \u001b[36m0:00:00\u001b[0m\n",
            "\u001b[?25hDownloading nvidia_cuda_nvrtc_cu12-12.4.127-py3-none-manylinux2014_x86_64.whl (24.6 MB)\n",
            "\u001b[2K   \u001b[90m━━━━━━━━━━━━━━━━━━━━━━━━━━━━━━━━━━━━━━━━\u001b[0m \u001b[32m24.6/24.6 MB\u001b[0m \u001b[31m88.5 MB/s\u001b[0m eta \u001b[36m0:00:00\u001b[0m\n",
            "\u001b[?25hDownloading nvidia_cuda_runtime_cu12-12.4.127-py3-none-manylinux2014_x86_64.whl (883 kB)\n",
            "\u001b[2K   \u001b[90m━━━━━━━━━━━━━━━━━━━━━━━━━━━━━━━━━━━━━━━━\u001b[0m \u001b[32m883.7/883.7 kB\u001b[0m \u001b[31m64.9 MB/s\u001b[0m eta \u001b[36m0:00:00\u001b[0m\n",
            "\u001b[?25hDownloading nvidia_cudnn_cu12-9.1.0.70-py3-none-manylinux2014_x86_64.whl (664.8 MB)\n",
            "\u001b[2K   \u001b[90m━━━━━━━━━━━━━━━━━━━━━━━━━━━━━━━━━━━━━━━━\u001b[0m \u001b[32m664.8/664.8 MB\u001b[0m \u001b[31m2.8 MB/s\u001b[0m eta \u001b[36m0:00:00\u001b[0m\n",
            "\u001b[?25hDownloading nvidia_cufft_cu12-11.2.1.3-py3-none-manylinux2014_x86_64.whl (211.5 MB)\n",
            "\u001b[2K   \u001b[90m━━━━━━━━━━━━━━━━━━━━━━━━━━━━━━━━━━━━━━━━\u001b[0m \u001b[32m211.5/211.5 MB\u001b[0m \u001b[31m6.2 MB/s\u001b[0m eta \u001b[36m0:00:00\u001b[0m\n",
            "\u001b[?25hDownloading nvidia_curand_cu12-10.3.5.147-py3-none-manylinux2014_x86_64.whl (56.3 MB)\n",
            "\u001b[2K   \u001b[90m━━━━━━━━━━━━━━━━━━━━━━━━━━━━━━━━━━━━━━━━\u001b[0m \u001b[32m56.3/56.3 MB\u001b[0m \u001b[31m13.1 MB/s\u001b[0m eta \u001b[36m0:00:00\u001b[0m\n",
            "\u001b[?25hDownloading nvidia_cusolver_cu12-11.6.1.9-py3-none-manylinux2014_x86_64.whl (127.9 MB)\n",
            "\u001b[2K   \u001b[90m━━━━━━━━━━━━━━━━━━━━━━━━━━━━━━━━━━━━━━━━\u001b[0m \u001b[32m127.9/127.9 MB\u001b[0m \u001b[31m7.5 MB/s\u001b[0m eta \u001b[36m0:00:00\u001b[0m\n",
            "\u001b[?25hDownloading nvidia_cusparse_cu12-12.3.1.170-py3-none-manylinux2014_x86_64.whl (207.5 MB)\n",
            "\u001b[2K   \u001b[90m━━━━━━━━━━━━━━━━━━━━━━━━━━━━━━━━━━━━━━━━\u001b[0m \u001b[32m207.5/207.5 MB\u001b[0m \u001b[31m5.2 MB/s\u001b[0m eta \u001b[36m0:00:00\u001b[0m\n",
            "\u001b[?25hDownloading nvidia_nvjitlink_cu12-12.4.127-py3-none-manylinux2014_x86_64.whl (21.1 MB)\n",
            "\u001b[2K   \u001b[90m━━━━━━━━━━━━━━━━━━━━━━━━━━━━━━━━━━━━━━━━\u001b[0m \u001b[32m21.1/21.1 MB\u001b[0m \u001b[31m40.1 MB/s\u001b[0m eta \u001b[36m0:00:00\u001b[0m\n",
            "\u001b[?25hBuilding wheels for collected packages: openai-whisper\n",
            "  Building wheel for openai-whisper (pyproject.toml) ... \u001b[?25l\u001b[?25hdone\n",
            "  Created wheel for openai-whisper: filename=openai_whisper-20240930-py3-none-any.whl size=803707 sha256=7a4047226ce9352c373c88fa6c9ab37215387aabba2758f355da155ba55a6d79\n",
            "  Stored in directory: /tmp/pip-ephem-wheel-cache-8_1q6qvj/wheels/1f/1d/98/9583695e6695a6ac0ad42d87511097dce5ba486647dbfecb0e\n",
            "Successfully built openai-whisper\n",
            "Installing collected packages: nvidia-nvjitlink-cu12, nvidia-curand-cu12, nvidia-cufft-cu12, nvidia-cuda-runtime-cu12, nvidia-cuda-nvrtc-cu12, nvidia-cuda-cupti-cu12, nvidia-cublas-cu12, nvidia-cusparse-cu12, nvidia-cudnn-cu12, nvidia-cusolver-cu12, openai-whisper\n",
            "  Attempting uninstall: nvidia-nvjitlink-cu12\n",
            "    Found existing installation: nvidia-nvjitlink-cu12 12.5.82\n",
            "    Uninstalling nvidia-nvjitlink-cu12-12.5.82:\n",
            "      Successfully uninstalled nvidia-nvjitlink-cu12-12.5.82\n",
            "  Attempting uninstall: nvidia-curand-cu12\n",
            "    Found existing installation: nvidia-curand-cu12 10.3.6.82\n",
            "    Uninstalling nvidia-curand-cu12-10.3.6.82:\n",
            "      Successfully uninstalled nvidia-curand-cu12-10.3.6.82\n",
            "  Attempting uninstall: nvidia-cufft-cu12\n",
            "    Found existing installation: nvidia-cufft-cu12 11.2.3.61\n",
            "    Uninstalling nvidia-cufft-cu12-11.2.3.61:\n",
            "      Successfully uninstalled nvidia-cufft-cu12-11.2.3.61\n",
            "  Attempting uninstall: nvidia-cuda-runtime-cu12\n",
            "    Found existing installation: nvidia-cuda-runtime-cu12 12.5.82\n",
            "    Uninstalling nvidia-cuda-runtime-cu12-12.5.82:\n",
            "      Successfully uninstalled nvidia-cuda-runtime-cu12-12.5.82\n",
            "  Attempting uninstall: nvidia-cuda-nvrtc-cu12\n",
            "    Found existing installation: nvidia-cuda-nvrtc-cu12 12.5.82\n",
            "    Uninstalling nvidia-cuda-nvrtc-cu12-12.5.82:\n",
            "      Successfully uninstalled nvidia-cuda-nvrtc-cu12-12.5.82\n",
            "  Attempting uninstall: nvidia-cuda-cupti-cu12\n",
            "    Found existing installation: nvidia-cuda-cupti-cu12 12.5.82\n",
            "    Uninstalling nvidia-cuda-cupti-cu12-12.5.82:\n",
            "      Successfully uninstalled nvidia-cuda-cupti-cu12-12.5.82\n",
            "  Attempting uninstall: nvidia-cublas-cu12\n",
            "    Found existing installation: nvidia-cublas-cu12 12.5.3.2\n",
            "    Uninstalling nvidia-cublas-cu12-12.5.3.2:\n",
            "      Successfully uninstalled nvidia-cublas-cu12-12.5.3.2\n",
            "  Attempting uninstall: nvidia-cusparse-cu12\n",
            "    Found existing installation: nvidia-cusparse-cu12 12.5.1.3\n",
            "    Uninstalling nvidia-cusparse-cu12-12.5.1.3:\n",
            "      Successfully uninstalled nvidia-cusparse-cu12-12.5.1.3\n",
            "  Attempting uninstall: nvidia-cudnn-cu12\n",
            "    Found existing installation: nvidia-cudnn-cu12 9.3.0.75\n",
            "    Uninstalling nvidia-cudnn-cu12-9.3.0.75:\n",
            "      Successfully uninstalled nvidia-cudnn-cu12-9.3.0.75\n",
            "  Attempting uninstall: nvidia-cusolver-cu12\n",
            "    Found existing installation: nvidia-cusolver-cu12 11.6.3.83\n",
            "    Uninstalling nvidia-cusolver-cu12-11.6.3.83:\n",
            "      Successfully uninstalled nvidia-cusolver-cu12-11.6.3.83\n",
            "Successfully installed nvidia-cublas-cu12-12.4.5.8 nvidia-cuda-cupti-cu12-12.4.127 nvidia-cuda-nvrtc-cu12-12.4.127 nvidia-cuda-runtime-cu12-12.4.127 nvidia-cudnn-cu12-9.1.0.70 nvidia-cufft-cu12-11.2.1.3 nvidia-curand-cu12-10.3.5.147 nvidia-cusolver-cu12-11.6.1.9 nvidia-cusparse-cu12-12.3.1.170 nvidia-nvjitlink-cu12-12.4.127 openai-whisper-20240930\n",
            "Collecting sounddevice\n",
            "  Downloading sounddevice-0.5.2-py3-none-any.whl.metadata (1.6 kB)\n",
            "Collecting wavio\n",
            "  Downloading wavio-0.0.9-py3-none-any.whl.metadata (5.7 kB)\n",
            "Requirement already satisfied: CFFI>=1.0 in /usr/local/lib/python3.11/dist-packages (from sounddevice) (1.17.1)\n",
            "Requirement already satisfied: numpy>=1.19.0 in /usr/local/lib/python3.11/dist-packages (from wavio) (2.0.2)\n",
            "Requirement already satisfied: pycparser in /usr/local/lib/python3.11/dist-packages (from CFFI>=1.0->sounddevice) (2.22)\n",
            "Downloading sounddevice-0.5.2-py3-none-any.whl (32 kB)\n",
            "Downloading wavio-0.0.9-py3-none-any.whl (9.5 kB)\n",
            "Installing collected packages: wavio, sounddevice\n",
            "Successfully installed sounddevice-0.5.2 wavio-0.0.9\n",
            "Collecting ipywebrtc\n",
            "  Downloading ipywebrtc-0.6.0-py2.py3-none-any.whl.metadata (825 bytes)\n",
            "Requirement already satisfied: notebook in /usr/local/lib/python3.11/dist-packages (6.5.7)\n",
            "Requirement already satisfied: jinja2 in /usr/local/lib/python3.11/dist-packages (from notebook) (3.1.6)\n",
            "Requirement already satisfied: tornado>=6.1 in /usr/local/lib/python3.11/dist-packages (from notebook) (6.4.2)\n",
            "Requirement already satisfied: pyzmq>=17 in /usr/local/lib/python3.11/dist-packages (from notebook) (24.0.1)\n",
            "Requirement already satisfied: argon2-cffi in /usr/local/lib/python3.11/dist-packages (from notebook) (25.1.0)\n",
            "Requirement already satisfied: traitlets>=4.2.1 in /usr/local/lib/python3.11/dist-packages (from notebook) (5.7.1)\n",
            "Requirement already satisfied: jupyter-core>=4.6.1 in /usr/local/lib/python3.11/dist-packages (from notebook) (5.8.1)\n",
            "Requirement already satisfied: jupyter-client<8,>=5.3.4 in /usr/local/lib/python3.11/dist-packages (from notebook) (6.1.12)\n",
            "Requirement already satisfied: ipython-genutils in /usr/local/lib/python3.11/dist-packages (from notebook) (0.2.0)\n",
            "Requirement already satisfied: nbformat in /usr/local/lib/python3.11/dist-packages (from notebook) (5.10.4)\n",
            "Requirement already satisfied: nbconvert>=5 in /usr/local/lib/python3.11/dist-packages (from notebook) (7.16.6)\n",
            "Requirement already satisfied: nest-asyncio>=1.5 in /usr/local/lib/python3.11/dist-packages (from notebook) (1.6.0)\n",
            "Requirement already satisfied: ipykernel in /usr/local/lib/python3.11/dist-packages (from notebook) (6.17.1)\n",
            "Requirement already satisfied: Send2Trash>=1.8.0 in /usr/local/lib/python3.11/dist-packages (from notebook) (1.8.3)\n",
            "Requirement already satisfied: terminado>=0.8.3 in /usr/local/lib/python3.11/dist-packages (from notebook) (0.18.1)\n",
            "Requirement already satisfied: prometheus-client in /usr/local/lib/python3.11/dist-packages (from notebook) (0.22.1)\n",
            "Requirement already satisfied: nbclassic>=0.4.7 in /usr/local/lib/python3.11/dist-packages (from notebook) (1.3.1)\n",
            "Requirement already satisfied: python-dateutil>=2.1 in /usr/local/lib/python3.11/dist-packages (from jupyter-client<8,>=5.3.4->notebook) (2.9.0.post0)\n",
            "Requirement already satisfied: platformdirs>=2.5 in /usr/local/lib/python3.11/dist-packages (from jupyter-core>=4.6.1->notebook) (4.3.8)\n",
            "Requirement already satisfied: notebook-shim>=0.2.3 in /usr/local/lib/python3.11/dist-packages (from nbclassic>=0.4.7->notebook) (0.2.4)\n",
            "Requirement already satisfied: beautifulsoup4 in /usr/local/lib/python3.11/dist-packages (from nbconvert>=5->notebook) (4.13.4)\n",
            "Requirement already satisfied: bleach!=5.0.0 in /usr/local/lib/python3.11/dist-packages (from bleach[css]!=5.0.0->nbconvert>=5->notebook) (6.2.0)\n",
            "Requirement already satisfied: defusedxml in /usr/local/lib/python3.11/dist-packages (from nbconvert>=5->notebook) (0.7.1)\n",
            "Requirement already satisfied: jupyterlab-pygments in /usr/local/lib/python3.11/dist-packages (from nbconvert>=5->notebook) (0.3.0)\n",
            "Requirement already satisfied: markupsafe>=2.0 in /usr/local/lib/python3.11/dist-packages (from nbconvert>=5->notebook) (3.0.2)\n",
            "Requirement already satisfied: mistune<4,>=2.0.3 in /usr/local/lib/python3.11/dist-packages (from nbconvert>=5->notebook) (3.1.3)\n",
            "Requirement already satisfied: nbclient>=0.5.0 in /usr/local/lib/python3.11/dist-packages (from nbconvert>=5->notebook) (0.10.2)\n",
            "Requirement already satisfied: packaging in /usr/local/lib/python3.11/dist-packages (from nbconvert>=5->notebook) (24.2)\n",
            "Requirement already satisfied: pandocfilters>=1.4.1 in /usr/local/lib/python3.11/dist-packages (from nbconvert>=5->notebook) (1.5.1)\n",
            "Requirement already satisfied: pygments>=2.4.1 in /usr/local/lib/python3.11/dist-packages (from nbconvert>=5->notebook) (2.19.1)\n",
            "Requirement already satisfied: fastjsonschema>=2.15 in /usr/local/lib/python3.11/dist-packages (from nbformat->notebook) (2.21.1)\n",
            "Requirement already satisfied: jsonschema>=2.6 in /usr/local/lib/python3.11/dist-packages (from nbformat->notebook) (4.24.0)\n",
            "Requirement already satisfied: ptyprocess in /usr/local/lib/python3.11/dist-packages (from terminado>=0.8.3->notebook) (0.7.0)\n",
            "Requirement already satisfied: argon2-cffi-bindings in /usr/local/lib/python3.11/dist-packages (from argon2-cffi->notebook) (21.2.0)\n",
            "Requirement already satisfied: debugpy>=1.0 in /usr/local/lib/python3.11/dist-packages (from ipykernel->notebook) (1.8.0)\n",
            "Requirement already satisfied: ipython>=7.23.1 in /usr/local/lib/python3.11/dist-packages (from ipykernel->notebook) (7.34.0)\n",
            "Requirement already satisfied: matplotlib-inline>=0.1 in /usr/local/lib/python3.11/dist-packages (from ipykernel->notebook) (0.1.7)\n",
            "Requirement already satisfied: psutil in /usr/local/lib/python3.11/dist-packages (from ipykernel->notebook) (5.9.5)\n",
            "Requirement already satisfied: webencodings in /usr/local/lib/python3.11/dist-packages (from bleach!=5.0.0->bleach[css]!=5.0.0->nbconvert>=5->notebook) (0.5.1)\n",
            "Requirement already satisfied: tinycss2<1.5,>=1.1.0 in /usr/local/lib/python3.11/dist-packages (from bleach[css]!=5.0.0->nbconvert>=5->notebook) (1.4.0)\n",
            "Requirement already satisfied: setuptools>=18.5 in /usr/local/lib/python3.11/dist-packages (from ipython>=7.23.1->ipykernel->notebook) (75.2.0)\n",
            "Collecting jedi>=0.16 (from ipython>=7.23.1->ipykernel->notebook)\n",
            "  Downloading jedi-0.19.2-py2.py3-none-any.whl.metadata (22 kB)\n",
            "Requirement already satisfied: decorator in /usr/local/lib/python3.11/dist-packages (from ipython>=7.23.1->ipykernel->notebook) (4.4.2)\n",
            "Requirement already satisfied: pickleshare in /usr/local/lib/python3.11/dist-packages (from ipython>=7.23.1->ipykernel->notebook) (0.7.5)\n",
            "Requirement already satisfied: prompt-toolkit!=3.0.0,!=3.0.1,<3.1.0,>=2.0.0 in /usr/local/lib/python3.11/dist-packages (from ipython>=7.23.1->ipykernel->notebook) (3.0.51)\n",
            "Requirement already satisfied: backcall in /usr/local/lib/python3.11/dist-packages (from ipython>=7.23.1->ipykernel->notebook) (0.2.0)\n",
            "Requirement already satisfied: pexpect>4.3 in /usr/local/lib/python3.11/dist-packages (from ipython>=7.23.1->ipykernel->notebook) (4.9.0)\n",
            "Requirement already satisfied: attrs>=22.2.0 in /usr/local/lib/python3.11/dist-packages (from jsonschema>=2.6->nbformat->notebook) (25.3.0)\n",
            "Requirement already satisfied: jsonschema-specifications>=2023.03.6 in /usr/local/lib/python3.11/dist-packages (from jsonschema>=2.6->nbformat->notebook) (2025.4.1)\n",
            "Requirement already satisfied: referencing>=0.28.4 in /usr/local/lib/python3.11/dist-packages (from jsonschema>=2.6->nbformat->notebook) (0.36.2)\n",
            "Requirement already satisfied: rpds-py>=0.7.1 in /usr/local/lib/python3.11/dist-packages (from jsonschema>=2.6->nbformat->notebook) (0.25.1)\n",
            "Requirement already satisfied: jupyter-server<3,>=1.8 in /usr/local/lib/python3.11/dist-packages (from notebook-shim>=0.2.3->nbclassic>=0.4.7->notebook) (1.16.0)\n",
            "Requirement already satisfied: six>=1.5 in /usr/local/lib/python3.11/dist-packages (from python-dateutil>=2.1->jupyter-client<8,>=5.3.4->notebook) (1.17.0)\n",
            "Requirement already satisfied: cffi>=1.0.1 in /usr/local/lib/python3.11/dist-packages (from argon2-cffi-bindings->argon2-cffi->notebook) (1.17.1)\n",
            "Requirement already satisfied: soupsieve>1.2 in /usr/local/lib/python3.11/dist-packages (from beautifulsoup4->nbconvert>=5->notebook) (2.7)\n",
            "Requirement already satisfied: typing-extensions>=4.0.0 in /usr/local/lib/python3.11/dist-packages (from beautifulsoup4->nbconvert>=5->notebook) (4.14.0)\n",
            "Requirement already satisfied: pycparser in /usr/local/lib/python3.11/dist-packages (from cffi>=1.0.1->argon2-cffi-bindings->argon2-cffi->notebook) (2.22)\n",
            "Requirement already satisfied: parso<0.9.0,>=0.8.4 in /usr/local/lib/python3.11/dist-packages (from jedi>=0.16->ipython>=7.23.1->ipykernel->notebook) (0.8.4)\n",
            "Requirement already satisfied: anyio>=3.1.0 in /usr/local/lib/python3.11/dist-packages (from jupyter-server<3,>=1.8->notebook-shim>=0.2.3->nbclassic>=0.4.7->notebook) (4.9.0)\n",
            "Requirement already satisfied: websocket-client in /usr/local/lib/python3.11/dist-packages (from jupyter-server<3,>=1.8->notebook-shim>=0.2.3->nbclassic>=0.4.7->notebook) (1.8.0)\n",
            "Requirement already satisfied: wcwidth in /usr/local/lib/python3.11/dist-packages (from prompt-toolkit!=3.0.0,!=3.0.1,<3.1.0,>=2.0.0->ipython>=7.23.1->ipykernel->notebook) (0.2.13)\n",
            "Requirement already satisfied: idna>=2.8 in /usr/local/lib/python3.11/dist-packages (from anyio>=3.1.0->jupyter-server<3,>=1.8->notebook-shim>=0.2.3->nbclassic>=0.4.7->notebook) (3.10)\n",
            "Requirement already satisfied: sniffio>=1.1 in /usr/local/lib/python3.11/dist-packages (from anyio>=3.1.0->jupyter-server<3,>=1.8->notebook-shim>=0.2.3->nbclassic>=0.4.7->notebook) (1.3.1)\n",
            "Downloading ipywebrtc-0.6.0-py2.py3-none-any.whl (260 kB)\n",
            "\u001b[2K   \u001b[90m━━━━━━━━━━━━━━━━━━━━━━━━━━━━━━━━━━━━━━━━\u001b[0m \u001b[32m260.7/260.7 kB\u001b[0m \u001b[31m18.9 MB/s\u001b[0m eta \u001b[36m0:00:00\u001b[0m\n",
            "\u001b[?25hDownloading jedi-0.19.2-py2.py3-none-any.whl (1.6 MB)\n",
            "\u001b[2K   \u001b[90m━━━━━━━━━━━━━━━━━━━━━━━━━━━━━━━━━━━━━━━━\u001b[0m \u001b[32m1.6/1.6 MB\u001b[0m \u001b[31m55.5 MB/s\u001b[0m eta \u001b[36m0:00:00\u001b[0m\n",
            "\u001b[?25hInstalling collected packages: ipywebrtc, jedi\n",
            "Successfully installed ipywebrtc-0.6.0 jedi-0.19.2\n"
          ]
        }
      ],
      "source": [
        "! pip install git+https://github.com/openai/whisper.git\n",
        "! pip install sounddevice wavio\n",
        "! pip install ipywebrtc notebook"
      ]
    },
    {
      "cell_type": "markdown",
      "source": [
        "We also need the following in order to record audio from this notebook and process the resulting files."
      ],
      "metadata": {
        "id": "nAfgdT6iHnLC"
      }
    },
    {
      "cell_type": "code",
      "source": [
        "!apt install ffmpeg\n",
        "!apt-get install libportaudio2"
      ],
      "metadata": {
        "id": "wIRFnTn3Fzua",
        "colab": {
          "base_uri": "https://localhost:8080/"
        },
        "outputId": "581b97d5-4a8c-48d3-be1f-512a35831844"
      },
      "execution_count": 4,
      "outputs": [
        {
          "output_type": "stream",
          "name": "stdout",
          "text": [
            "Reading package lists... Done\n",
            "Building dependency tree... Done\n",
            "Reading state information... Done\n",
            "ffmpeg is already the newest version (7:4.4.2-0ubuntu0.22.04.1).\n",
            "0 upgraded, 0 newly installed, 0 to remove and 35 not upgraded.\n",
            "Reading package lists... Done\n",
            "Building dependency tree... Done\n",
            "Reading state information... Done\n",
            "The following NEW packages will be installed:\n",
            "  libportaudio2\n",
            "0 upgraded, 1 newly installed, 0 to remove and 35 not upgraded.\n",
            "Need to get 65.3 kB of archives.\n",
            "After this operation, 223 kB of additional disk space will be used.\n",
            "Get:1 http://archive.ubuntu.com/ubuntu jammy/universe amd64 libportaudio2 amd64 19.6.0-1.1 [65.3 kB]\n",
            "Fetched 65.3 kB in 1s (54.4 kB/s)\n",
            "Selecting previously unselected package libportaudio2:amd64.\n",
            "(Reading database ... 126111 files and directories currently installed.)\n",
            "Preparing to unpack .../libportaudio2_19.6.0-1.1_amd64.deb ...\n",
            "Unpacking libportaudio2:amd64 (19.6.0-1.1) ...\n",
            "Setting up libportaudio2:amd64 (19.6.0-1.1) ...\n",
            "Processing triggers for libc-bin (2.35-0ubuntu3.8) ...\n",
            "/sbin/ldconfig.real: /usr/local/lib/libur_loader.so.0 is not a symbolic link\n",
            "\n",
            "/sbin/ldconfig.real: /usr/local/lib/libtbbmalloc_proxy.so.2 is not a symbolic link\n",
            "\n",
            "/sbin/ldconfig.real: /usr/local/lib/libtbb.so.12 is not a symbolic link\n",
            "\n",
            "/sbin/ldconfig.real: /usr/local/lib/libhwloc.so.15 is not a symbolic link\n",
            "\n",
            "/sbin/ldconfig.real: /usr/local/lib/libumf.so.0 is not a symbolic link\n",
            "\n",
            "/sbin/ldconfig.real: /usr/local/lib/libtbbbind_2_0.so.3 is not a symbolic link\n",
            "\n",
            "/sbin/ldconfig.real: /usr/local/lib/libur_adapter_level_zero.so.0 is not a symbolic link\n",
            "\n",
            "/sbin/ldconfig.real: /usr/local/lib/libtbbmalloc.so.2 is not a symbolic link\n",
            "\n",
            "/sbin/ldconfig.real: /usr/local/lib/libtbbbind_2_5.so.3 is not a symbolic link\n",
            "\n",
            "/sbin/ldconfig.real: /usr/local/lib/libtbbbind.so.3 is not a symbolic link\n",
            "\n",
            "/sbin/ldconfig.real: /usr/local/lib/libtcm_debug.so.1 is not a symbolic link\n",
            "\n",
            "/sbin/ldconfig.real: /usr/local/lib/libtcm.so.1 is not a symbolic link\n",
            "\n",
            "/sbin/ldconfig.real: /usr/local/lib/libur_adapter_opencl.so.0 is not a symbolic link\n",
            "\n"
          ]
        }
      ]
    },
    {
      "cell_type": "code",
      "execution_count": 5,
      "metadata": {
        "id": "3CqtR2Fi5-vP"
      },
      "outputs": [],
      "source": [
        "import os\n",
        "import numpy as np\n",
        "\n",
        "try:\n",
        "    import tensorflow\n",
        "except ImportError:\n",
        "    pass\n",
        "\n",
        "import torch\n",
        "import pandas as pd\n",
        "import whisper\n",
        "import torchaudio\n",
        "\n",
        "from ipywebrtc import AudioRecorder, CameraStream\n",
        "from IPython.display import Audio, display\n",
        "import ipywidgets as widgets\n",
        "\n",
        "DEVICE = \"cuda\" if torch.cuda.is_available() else \"cpu\""
      ]
    },
    {
      "cell_type": "markdown",
      "metadata": {
        "id": "1IMEkgyagYto"
      },
      "source": [
        "## Make your recording\n",
        "\n",
        "1. Load widgets in colab"
      ]
    },
    {
      "cell_type": "code",
      "source": [
        "from google.colab import output\n",
        "output.enable_custom_widget_manager()"
      ],
      "metadata": {
        "id": "WmCVlVnMAGQX"
      },
      "execution_count": 6,
      "outputs": []
    },
    {
      "cell_type": "code",
      "source": [
        "camera = CameraStream(constraints={'audio': True,'video':False})\n",
        "recorder = AudioRecorder(stream=camera)\n",
        "recorder"
      ],
      "metadata": {
        "colab": {
          "base_uri": "https://localhost:8080/",
          "height": 107,
          "referenced_widgets": [
            "103a4eccb3bf41f08d75f0bdf9a5199e",
            "da10f49d41da4f279fa50ce8bd6cc792",
            "22bddc19046c4284a3b3bd6b694d7fb3",
            "6d9706c7936a4c9680dad884af3ad6dc",
            "5aaa611d56504e66a3af2a58ec207fc0",
            "2430b381fb5e4cd387a1b6f39ccfd8be"
          ]
        },
        "id": "-fFdSBBAGjFk",
        "outputId": "a1d2de1a-af86-46c3-c390-373d733b5ec3"
      },
      "execution_count": 7,
      "outputs": [
        {
          "output_type": "display_data",
          "data": {
            "text/plain": [
              "AudioRecorder(audio=Audio(value=b'', format='webm'), stream=CameraStream(constraints={'audio': True, 'video': …"
            ],
            "application/vnd.jupyter.widget-view+json": {
              "version_major": 2,
              "version_minor": 0,
              "model_id": "103a4eccb3bf41f08d75f0bdf9a5199e"
            }
          },
          "metadata": {
            "application/vnd.jupyter.widget-view+json": {
              "colab": {
                "custom_widget_manager": {
                  "url": "https://ssl.gstatic.com/colaboratory-static/widgets/colab-cdn-widget-manager/2b70e893a8ba7c0f/manager.min.js"
                }
              }
            }
          }
        }
      ]
    },
    {
      "cell_type": "markdown",
      "source": [
        "2. Transform the audio to WAV for the model"
      ],
      "metadata": {
        "id": "dk-zZpPBG25R"
      }
    },
    {
      "cell_type": "code",
      "source": [
        "with open('record.webm', 'wb') as f:\n",
        "    f.write(recorder.audio.value)\n",
        "!ffmpeg -i recording.webm -ac 1 -f wav my_recording.wav -y -hide_banner -loglevel panic"
      ],
      "metadata": {
        "id": "EDDgAohMGrCR"
      },
      "execution_count": 16,
      "outputs": []
    },
    {
      "cell_type": "markdown",
      "source": [
        "## Select Language and mode\n",
        "\n",
        "1. We choose spanish for our task"
      ],
      "metadata": {
        "id": "x8m2ez4lGrWn"
      }
    },
    {
      "cell_type": "code",
      "source": [
        "language_options = whisper.tokenizer.TO_LANGUAGE_CODE\n",
        "language_list = list(language_options.keys())"
      ],
      "metadata": {
        "id": "U7p2AoJItnIM"
      },
      "execution_count": 17,
      "outputs": []
    },
    {
      "cell_type": "markdown",
      "source": [
        "## Load Whisper model"
      ],
      "metadata": {
        "id": "FG8FN6TQ_ale"
      }
    },
    {
      "cell_type": "code",
      "execution_count": 18,
      "metadata": {
        "colab": {
          "base_uri": "https://localhost:8080/"
        },
        "id": "_PokfNJtOYNu",
        "outputId": "3572f1d1-28a6-48b1-dce2-46a9d75ed6e8"
      },
      "outputs": [
        {
          "output_type": "stream",
          "name": "stdout",
          "text": [
            "Model is multilingual and has 71,825,920 parameters.\n"
          ]
        }
      ],
      "source": [
        "model = whisper.load_model(\"base\")\n",
        "print(\n",
        "    f\"Model is {'multilingual' if model.is_multilingual else 'English-only'} \"\n",
        "    f\"and has {sum(np.prod(p.shape) for p in model.parameters()):,} parameters.\"\n",
        ")"
      ]
    },
    {
      "cell_type": "markdown",
      "source": [
        "Finally, let's set the rest of our task and language options below and see what we've got. Check that your task and language settings are correct, but don't worry about the other defaults."
      ],
      "metadata": {
        "id": "wNrLhTEqP-Q0"
      }
    },
    {
      "cell_type": "code",
      "execution_count": 19,
      "metadata": {
        "id": "DwOUHau-dkUt",
        "outputId": "7aab4608-d4e3-494e-9764-64828d2c9a19",
        "colab": {
          "base_uri": "https://localhost:8080/"
        }
      },
      "outputs": [
        {
          "output_type": "execute_result",
          "data": {
            "text/plain": [
              "DecodingOptions(task='transcribe', language='spanish', temperature=0.0, sample_len=None, best_of=None, beam_size=None, patience=None, length_penalty=None, prompt=None, prefix=None, suppress_tokens='-1', suppress_blank=True, without_timestamps=True, max_initial_timestamp=1.0, fp16=True)"
            ]
          },
          "metadata": {},
          "execution_count": 19
        }
      ],
      "source": [
        "options = whisper.DecodingOptions(language='spanish', task='transcribe', without_timestamps=True)\n",
        "options"
      ]
    },
    {
      "cell_type": "markdown",
      "source": [
        "## Start transcribing\n",
        "\n",
        "Time to load our file and see the results"
      ],
      "metadata": {
        "id": "Ns_iOuQpJEHk"
      }
    },
    {
      "cell_type": "code",
      "source": [
        "audio = whisper.load_audio(\"record.webm\")\n",
        "audio = whisper.pad_or_trim(audio)\n",
        "mel = whisper.log_mel_spectrogram(audio).to(model.device)\n",
        "result = model.decode(mel, options)"
      ],
      "metadata": {
        "id": "q6S0VvoK0vfq"
      },
      "execution_count": 20,
      "outputs": []
    },
    {
      "cell_type": "code",
      "source": [
        "result.text"
      ],
      "metadata": {
        "colab": {
          "base_uri": "https://localhost:8080/",
          "height": 35
        },
        "id": "Mg64_MWW1uMb",
        "outputId": "f60ef44f-1b40-481e-a11e-ef8032a70099"
      },
      "execution_count": 21,
      "outputs": [
        {
          "output_type": "execute_result",
          "data": {
            "text/plain": [
              "'Hola, hoy es 15 de julio.'"
            ],
            "application/vnd.google.colaboratory.intrinsic+json": {
              "type": "string"
            }
          },
          "metadata": {},
          "execution_count": 21
        }
      ]
    },
    {
      "cell_type": "markdown",
      "source": [
        "# Multilingual translation using NLLB (No Language Left Behind) from Meta\n",
        "\n",
        "### 1. Installing dependencies"
      ],
      "metadata": {
        "id": "8JDRDiYPB5zP"
      }
    },
    {
      "cell_type": "code",
      "source": [
        "!pip install transformers sentencepiece"
      ],
      "metadata": {
        "colab": {
          "base_uri": "https://localhost:8080/"
        },
        "id": "5ZFotpEmBgnx",
        "outputId": "b8e54316-1443-457e-e379-07a05ad22b9f"
      },
      "execution_count": 1,
      "outputs": [
        {
          "output_type": "stream",
          "name": "stdout",
          "text": [
            "Requirement already satisfied: transformers in /usr/local/lib/python3.11/dist-packages (4.52.4)\n",
            "Requirement already satisfied: sentencepiece in /usr/local/lib/python3.11/dist-packages (0.2.0)\n",
            "Requirement already satisfied: filelock in /usr/local/lib/python3.11/dist-packages (from transformers) (3.18.0)\n",
            "Requirement already satisfied: huggingface-hub<1.0,>=0.30.0 in /usr/local/lib/python3.11/dist-packages (from transformers) (0.32.4)\n",
            "Requirement already satisfied: numpy>=1.17 in /usr/local/lib/python3.11/dist-packages (from transformers) (2.0.2)\n",
            "Requirement already satisfied: packaging>=20.0 in /usr/local/lib/python3.11/dist-packages (from transformers) (24.2)\n",
            "Requirement already satisfied: pyyaml>=5.1 in /usr/local/lib/python3.11/dist-packages (from transformers) (6.0.2)\n",
            "Requirement already satisfied: regex!=2019.12.17 in /usr/local/lib/python3.11/dist-packages (from transformers) (2024.11.6)\n",
            "Requirement already satisfied: requests in /usr/local/lib/python3.11/dist-packages (from transformers) (2.32.3)\n",
            "Requirement already satisfied: tokenizers<0.22,>=0.21 in /usr/local/lib/python3.11/dist-packages (from transformers) (0.21.1)\n",
            "Requirement already satisfied: safetensors>=0.4.3 in /usr/local/lib/python3.11/dist-packages (from transformers) (0.5.3)\n",
            "Requirement already satisfied: tqdm>=4.27 in /usr/local/lib/python3.11/dist-packages (from transformers) (4.67.1)\n",
            "Requirement already satisfied: fsspec>=2023.5.0 in /usr/local/lib/python3.11/dist-packages (from huggingface-hub<1.0,>=0.30.0->transformers) (2025.3.2)\n",
            "Requirement already satisfied: typing-extensions>=3.7.4.3 in /usr/local/lib/python3.11/dist-packages (from huggingface-hub<1.0,>=0.30.0->transformers) (4.14.0)\n",
            "Requirement already satisfied: hf-xet<2.0.0,>=1.1.2 in /usr/local/lib/python3.11/dist-packages (from huggingface-hub<1.0,>=0.30.0->transformers) (1.1.2)\n",
            "Requirement already satisfied: charset-normalizer<4,>=2 in /usr/local/lib/python3.11/dist-packages (from requests->transformers) (3.4.2)\n",
            "Requirement already satisfied: idna<4,>=2.5 in /usr/local/lib/python3.11/dist-packages (from requests->transformers) (3.10)\n",
            "Requirement already satisfied: urllib3<3,>=1.21.1 in /usr/local/lib/python3.11/dist-packages (from requests->transformers) (2.4.0)\n",
            "Requirement already satisfied: certifi>=2017.4.17 in /usr/local/lib/python3.11/dist-packages (from requests->transformers) (2025.4.26)\n"
          ]
        }
      ]
    },
    {
      "cell_type": "markdown",
      "source": [
        "### 2. Building translation architecture"
      ],
      "metadata": {
        "id": "q3Zjzak3YAzU"
      }
    },
    {
      "cell_type": "code",
      "source": [
        "from transformers import AutoTokenizer, AutoModelForSeq2SeqLM\n",
        "import torch\n",
        "\n",
        "#pretrained Meta translator\n",
        "model_name = \"facebook/nllb-200-distilled-600M\"\n",
        "tokenizer = AutoTokenizer.from_pretrained(model_name)\n",
        "model = AutoModelForSeq2SeqLM.from_pretrained(model_name).to(DEVICE)"
      ],
      "metadata": {
        "colab": {
          "base_uri": "https://localhost:8080/",
          "height": 397,
          "referenced_widgets": [
            "414db9f4394a47c28d3bf6ef3d8bd52c",
            "e0e59bb7f3564ba180af816d2505c9d6",
            "1385521d6b7d4945b22f6434af20312b",
            "1c463490247045bb949cca471c6c3057",
            "b460ca478bd54c3ebd3e62ccab2d69aa",
            "02847f2a8d0446f598ce13e2b6a7245c",
            "c077e973f21a45128a9a4a5c1e1723a7",
            "fe45de0effa74a4db854b35b042be900",
            "aa7eee70259248549e9a18270ca6c440",
            "50c83c99892c467aacd44c70ee6eb78c",
            "893a9996f1c74229bf959cd43b7c4076",
            "bc012ebb5f0f4adeae091df035c2a488",
            "019775679f974d65860554ea45f7bbf1",
            "d6b58abc05a04e4a8dc317c0210d481d",
            "89a375f5e3d94440beeecf1d4b9e9556",
            "1af28d0fed73432db85491578bd16435",
            "3d75ba5d27c4461bbb53caad3d31cc68",
            "13bb2d9d2fcd4a7a89eb0cb4d208e3b0",
            "b06f0270e097466aac4094d044314ce8",
            "dd356e3308834794a87695a5cb63a5d0",
            "08740ff961b544a6bd29c7533ee15888",
            "bb3a13ae30694647942cf15242de6e24",
            "2a766fd37e59464c9f6111ea730ea607",
            "b8636d7c95c0464080920f2cbbaa3937",
            "89797cefe58c417bae2791906c7ab966",
            "6feca096a0c942e587016cb2ed9149f9",
            "abf61e46701b453bb5f1a1827ed741ae",
            "4f003f4f77e544a8940dd7d784d3eabb",
            "d02da43037e24790b309ec703f899c50",
            "cb88a16772d147fd9da691f553056a86",
            "2cf5fadd71f44e699fe7fbe83a7ff14c",
            "d6dac35eefcf4745b09b344f321d08d6",
            "78b8b16f536544acba12f180b46d2bcf",
            "8ff106f4c8144b429d1bcd756921217b",
            "a278098f8a3e48aa98e9886224b8f0f6",
            "d01193319dac4c3caa16cf69ee420906",
            "d0be810e6a7f4351923a33768436d2de",
            "7c18f91db9dd45c0b3aec70bcaf6821c",
            "4ae6bf5cb21b46cbaefb12773197ef4c",
            "ec77e64239f14fa2a1b8baf56c7019ea",
            "c5e3d061499e462da7f030d739e25a53",
            "b4851814dbb34b7f86aa827ec44d3571",
            "509eb706d9054bf8aafe3ba897b1b359",
            "4b7d14d5d96145a28a2cde97e1585ce2",
            "19a1e4d3344d4a1cb83d49b9eae08c52",
            "1f3cf3660c0345d48691147f0d7b84ac",
            "a72138a2e30246b8a7238b9f517aec5d",
            "d814f14d504741078754e73b27e78ead",
            "ff99b97a8157435197d84380205c16a0",
            "3df5d06da92a44e890df701c5437ed37",
            "10457bd170094e70b485168039cbf619",
            "da2d1880aa694047a86c17c986f95bb3",
            "b1caad0c864446a2a3eeeb5e4c8d9b29",
            "81bda435149845cb9d3ae196c154ef26",
            "3e9f05c089b64299b175fe7fe8c553f6",
            "8c43b9bdb624486bb3cf56443baae445",
            "9a8ae0d09037453d9912fd808066aaeb",
            "0b8acdc76cef49ea94bf8d0da55c0234",
            "ca3054a0ca18457ebb2da7b67fddc212",
            "5742cca915a147b7a8e63b9e993da1f2",
            "54c127e3cf3c42a18ec5471ec8d9a4e5",
            "24d774d30fb94d6b9d7ff954df55f298",
            "593b9ecf72d6442e8a760f27352ca081",
            "40debf122cb44518819417acffac22d8",
            "6cf7fcf1cb5f45fd94d254319e66269a",
            "a421d110f9154e02a944fa637d28d0ad",
            "e53809be05a84e2c9f03e0839d911701",
            "1b6ec0f3da204f55b007b629bf4682ff",
            "779b10056f054a70b466a436c4cc2e02",
            "79faf9a2ffec447290b1c8ec51b54694",
            "424f805afb124c318f69518665e7162d",
            "633bd1fad3ad4c4e9af9e420b13a4ead",
            "fa5f24084bae4d2fbd54b75de9567c2e",
            "6b8015d7f1914a7184a5779b4066b261",
            "5114429ec600469295191861763c31f8",
            "8af69a68cdf241e9a8787302f8953fed",
            "8c4cded354ea429f9e775e98e8ffed2f",
            "2cf5f95356c04e12a181bee0d9daeb29",
            "6a5db8d63847467b999f0af8e1ed8e03",
            "fb5e6e7a370641efad8e9e5ee8c8e46d",
            "bc34024c79a74f79a94f33ea8bc6701a",
            "43dfd5dbd3ff4a54a6f4e1ad6959eece",
            "5b21b6adbe1b43dba344c6b202c5973a",
            "9878f1224da64bd0a5c35a2a8cf09a18",
            "7a8b870d72fe4b379d775e2b08ac9c1e",
            "9bd463f09018452d949bc9de6505d102",
            "c4169c2bb3b14b4e9c4da153fde6c88d",
            "4f6149235b064aff973aa93f563334f9"
          ]
        },
        "id": "O6G1K9ZVX2yV",
        "outputId": "5318d8d4-8522-4023-89d1-cedef1aa1201"
      },
      "execution_count": 22,
      "outputs": [
        {
          "output_type": "stream",
          "name": "stderr",
          "text": [
            "/usr/local/lib/python3.11/dist-packages/huggingface_hub/utils/_auth.py:94: UserWarning: \n",
            "The secret `HF_TOKEN` does not exist in your Colab secrets.\n",
            "To authenticate with the Hugging Face Hub, create a token in your settings tab (https://huggingface.co/settings/tokens), set it as secret in your Google Colab and restart your session.\n",
            "You will be able to reuse this secret in all of your notebooks.\n",
            "Please note that authentication is recommended but still optional to access public models or datasets.\n",
            "  warnings.warn(\n"
          ]
        },
        {
          "output_type": "display_data",
          "data": {
            "text/plain": [
              "tokenizer_config.json:   0%|          | 0.00/564 [00:00<?, ?B/s]"
            ],
            "application/vnd.jupyter.widget-view+json": {
              "version_major": 2,
              "version_minor": 0,
              "model_id": "414db9f4394a47c28d3bf6ef3d8bd52c"
            }
          },
          "metadata": {
            "application/vnd.jupyter.widget-view+json": {
              "colab": {
                "custom_widget_manager": {
                  "url": "https://ssl.gstatic.com/colaboratory-static/widgets/colab-cdn-widget-manager/2b70e893a8ba7c0f/manager.min.js"
                }
              }
            }
          }
        },
        {
          "output_type": "display_data",
          "data": {
            "text/plain": [
              "sentencepiece.bpe.model:   0%|          | 0.00/4.85M [00:00<?, ?B/s]"
            ],
            "application/vnd.jupyter.widget-view+json": {
              "version_major": 2,
              "version_minor": 0,
              "model_id": "bb3a13ae30694647942cf15242de6e24"
            }
          },
          "metadata": {
            "application/vnd.jupyter.widget-view+json": {
              "colab": {
                "custom_widget_manager": {
                  "url": "https://ssl.gstatic.com/colaboratory-static/widgets/colab-cdn-widget-manager/2b70e893a8ba7c0f/manager.min.js"
                }
              }
            }
          }
        },
        {
          "output_type": "display_data",
          "data": {
            "text/plain": [
              "tokenizer.json:   0%|          | 0.00/17.3M [00:00<?, ?B/s]"
            ],
            "application/vnd.jupyter.widget-view+json": {
              "version_major": 2,
              "version_minor": 0,
              "model_id": "78b8b16f536544acba12f180b46d2bcf"
            }
          },
          "metadata": {
            "application/vnd.jupyter.widget-view+json": {
              "colab": {
                "custom_widget_manager": {
                  "url": "https://ssl.gstatic.com/colaboratory-static/widgets/colab-cdn-widget-manager/2b70e893a8ba7c0f/manager.min.js"
                }
              }
            }
          }
        },
        {
          "output_type": "display_data",
          "data": {
            "text/plain": [
              "special_tokens_map.json:   0%|          | 0.00/3.55k [00:00<?, ?B/s]"
            ],
            "application/vnd.jupyter.widget-view+json": {
              "version_major": 2,
              "version_minor": 0,
              "model_id": "4b7d14d5d96145a28a2cde97e1585ce2"
            }
          },
          "metadata": {
            "application/vnd.jupyter.widget-view+json": {
              "colab": {
                "custom_widget_manager": {
                  "url": "https://ssl.gstatic.com/colaboratory-static/widgets/colab-cdn-widget-manager/2b70e893a8ba7c0f/manager.min.js"
                }
              }
            }
          }
        },
        {
          "output_type": "display_data",
          "data": {
            "text/plain": [
              "config.json:   0%|          | 0.00/846 [00:00<?, ?B/s]"
            ],
            "application/vnd.jupyter.widget-view+json": {
              "version_major": 2,
              "version_minor": 0,
              "model_id": "3e9f05c089b64299b175fe7fe8c553f6"
            }
          },
          "metadata": {
            "application/vnd.jupyter.widget-view+json": {
              "colab": {
                "custom_widget_manager": {
                  "url": "https://ssl.gstatic.com/colaboratory-static/widgets/colab-cdn-widget-manager/2b70e893a8ba7c0f/manager.min.js"
                }
              }
            }
          }
        },
        {
          "output_type": "display_data",
          "data": {
            "text/plain": [
              "pytorch_model.bin:   0%|          | 0.00/2.46G [00:00<?, ?B/s]"
            ],
            "application/vnd.jupyter.widget-view+json": {
              "version_major": 2,
              "version_minor": 0,
              "model_id": "a421d110f9154e02a944fa637d28d0ad"
            }
          },
          "metadata": {
            "application/vnd.jupyter.widget-view+json": {
              "colab": {
                "custom_widget_manager": {
                  "url": "https://ssl.gstatic.com/colaboratory-static/widgets/colab-cdn-widget-manager/2b70e893a8ba7c0f/manager.min.js"
                }
              }
            }
          }
        },
        {
          "output_type": "display_data",
          "data": {
            "text/plain": [
              "model.safetensors:   0%|          | 0.00/2.46G [00:00<?, ?B/s]"
            ],
            "application/vnd.jupyter.widget-view+json": {
              "version_major": 2,
              "version_minor": 0,
              "model_id": "8c4cded354ea429f9e775e98e8ffed2f"
            }
          },
          "metadata": {}
        },
        {
          "output_type": "display_data",
          "data": {
            "text/plain": [
              "generation_config.json:   0%|          | 0.00/189 [00:00<?, ?B/s]"
            ],
            "application/vnd.jupyter.widget-view+json": {
              "version_major": 2,
              "version_minor": 0,
              "model_id": "2cf5f95356c04e12a181bee0d9daeb29"
            }
          },
          "metadata": {
            "application/vnd.jupyter.widget-view+json": {
              "colab": {
                "custom_widget_manager": {
                  "url": "https://ssl.gstatic.com/colaboratory-static/widgets/colab-cdn-widget-manager/2b70e893a8ba7c0f/manager.min.js"
                }
              }
            }
          }
        }
      ]
    },
    {
      "cell_type": "markdown",
      "source": [
        "### 3. Setting languages"
      ],
      "metadata": {
        "id": "au2dDoznc9H1"
      }
    },
    {
      "cell_type": "code",
      "source": [
        "#language list\n",
        "languages = {\n",
        "    'inglés': 'eng_Latn',\n",
        "    'coreano': 'kor_Hang',\n",
        "    'japonés': 'jpn_Jpan',\n",
        "    'chino': 'zho_Hans',\n",
        "    'francés': 'fra_Latn',\n",
        "    'italiano': 'ita_Latn',\n",
        "    'ruso': 'rus_Cyrl',\n",
        "    'urdu': 'urd_Arab',\n",
        "    'alemán': 'deu_Latn'\n",
        "}"
      ],
      "metadata": {
        "id": "cAuRCT7Xc-sF"
      },
      "execution_count": 39,
      "outputs": []
    },
    {
      "cell_type": "markdown",
      "source": [
        "### 4. Defining Transtalion Function"
      ],
      "metadata": {
        "id": "oIotgldTcrWH"
      }
    },
    {
      "cell_type": "code",
      "source": [
        "def translate(text, destination_lang):\n",
        "    if destination_lang not in languages:\n",
        "        raise ValueError(\"Language not found.\")\n",
        "\n",
        "    target_lang = languages[destination_lang]\n",
        "\n",
        "    #tokenize\n",
        "    inputs = tokenizer(text, return_tensors=\"pt\").to(DEVICE)\n",
        "\n",
        "    #getting target id\n",
        "    target_lang_id = tokenizer.convert_tokens_to_ids(target_lang)\n",
        "\n",
        "    #translate\n",
        "    translated_tokens = model.generate(\n",
        "        **inputs,\n",
        "        forced_bos_token_id=target_lang_id,\n",
        "        max_length=200\n",
        "    )\n",
        "\n",
        "    #decoding results\n",
        "    translation = tokenizer.decode(translated_tokens[0], skip_special_tokens=True)\n",
        "    return translation"
      ],
      "metadata": {
        "id": "i3AwYEBOciUb"
      },
      "execution_count": 26,
      "outputs": []
    },
    {
      "cell_type": "markdown",
      "source": [
        "### 5. Testing\n",
        "\n",
        "**Coreano**"
      ],
      "metadata": {
        "id": "eomNZCafcwMx"
      }
    },
    {
      "cell_type": "code",
      "source": [
        "corpus = result.text\n",
        "idioma = \"coreano\"\n",
        "\n",
        "traduccion = translate(corpus, idioma)\n",
        "print(f\"Texto original: {corpus}\")\n",
        "print(f\"Traducción a {idioma}: {traduccion}\")"
      ],
      "metadata": {
        "colab": {
          "base_uri": "https://localhost:8080/"
        },
        "id": "KnIpIVkraIm-",
        "outputId": "c0b5b3b8-872d-4854-eec9-1d0d59b5f698"
      },
      "execution_count": 27,
      "outputs": [
        {
          "output_type": "stream",
          "name": "stdout",
          "text": [
            "Texto original: Hola, hoy es 15 de julio.\n",
            "Traducción a coreano: 안녕하세요, 오늘은 7월 15일입니다.\n"
          ]
        }
      ]
    },
    {
      "cell_type": "markdown",
      "source": [
        "**Inglés**"
      ],
      "metadata": {
        "id": "IlpBewIOecrz"
      }
    },
    {
      "cell_type": "code",
      "source": [
        "idioma = \"inglés\"\n",
        "\n",
        "traduccion = translate(corpus, idioma)\n",
        "print(f\"Texto original: {corpus}\")\n",
        "print(f\"Traducción a {idioma}: {traduccion}\")"
      ],
      "metadata": {
        "colab": {
          "base_uri": "https://localhost:8080/"
        },
        "id": "7if7GPJnccSL",
        "outputId": "8e30e37e-cbbc-434b-bd94-5283df21cd42"
      },
      "execution_count": 29,
      "outputs": [
        {
          "output_type": "stream",
          "name": "stdout",
          "text": [
            "Texto original: Hola, hoy es 15 de julio.\n",
            "Traducción a inglés: Hello, today is July 15th.\n"
          ]
        }
      ]
    },
    {
      "cell_type": "markdown",
      "source": [
        "**Japonés**"
      ],
      "metadata": {
        "id": "9hRHxzJZesvb"
      }
    },
    {
      "cell_type": "code",
      "source": [
        "idioma = \"japonés\"\n",
        "\n",
        "traduccion = translate(corpus, idioma)\n",
        "print(f\"Texto original: {corpus}\")\n",
        "print(f\"Traducción a {idioma}: {traduccion}\")"
      ],
      "metadata": {
        "colab": {
          "base_uri": "https://localhost:8080/"
        },
        "id": "avuN-vA2eozI",
        "outputId": "43b6b911-0a22-470b-c806-14a656517c51"
      },
      "execution_count": 30,
      "outputs": [
        {
          "output_type": "stream",
          "name": "stdout",
          "text": [
            "Texto original: Hola, hoy es 15 de julio.\n",
            "Traducción a japonés: こんにちは 今日は7月15日です\n"
          ]
        }
      ]
    },
    {
      "cell_type": "markdown",
      "source": [
        "**Chino**"
      ],
      "metadata": {
        "id": "deW5Dw0ge0ty"
      }
    },
    {
      "cell_type": "code",
      "source": [
        "idioma = \"chino\"\n",
        "\n",
        "traduccion = translate(corpus, idioma)\n",
        "print(f\"Texto original: {corpus}\")\n",
        "print(f\"Traducción a {idioma}: {traduccion}\")"
      ],
      "metadata": {
        "colab": {
          "base_uri": "https://localhost:8080/"
        },
        "id": "ufnpdMHQezbS",
        "outputId": "afde8c76-123d-4a22-9999-cc93f83d3fd5"
      },
      "execution_count": 31,
      "outputs": [
        {
          "output_type": "stream",
          "name": "stdout",
          "text": [
            "Texto original: Hola, hoy es 15 de julio.\n",
            "Traducción a chino: 你好,今天是7月15日.\n"
          ]
        }
      ]
    },
    {
      "cell_type": "markdown",
      "source": [
        "**Francés**"
      ],
      "metadata": {
        "id": "JPF51VGae8-5"
      }
    },
    {
      "cell_type": "code",
      "source": [
        "idioma = \"francés\"\n",
        "\n",
        "traduccion = translate(corpus, idioma)\n",
        "print(f\"Texto original: {corpus}\")\n",
        "print(f\"Traducción a {idioma}: {traduccion}\")"
      ],
      "metadata": {
        "colab": {
          "base_uri": "https://localhost:8080/"
        },
        "id": "OEAb2ehJe7m3",
        "outputId": "e055556c-c20b-4fd2-f114-a1a2a136fa30"
      },
      "execution_count": 32,
      "outputs": [
        {
          "output_type": "stream",
          "name": "stdout",
          "text": [
            "Texto original: Hola, hoy es 15 de julio.\n",
            "Traducción a francés: Bonjour, aujourd'hui est le 15 juillet.\n"
          ]
        }
      ]
    },
    {
      "cell_type": "markdown",
      "source": [
        "**Italiano**"
      ],
      "metadata": {
        "id": "NJOUJpvyfGVt"
      }
    },
    {
      "cell_type": "code",
      "source": [
        "idioma = \"italiano\"\n",
        "\n",
        "traduccion = translate(corpus, idioma)\n",
        "print(f\"Texto original: {corpus}\")\n",
        "print(f\"Traducción a {idioma}: {traduccion}\")"
      ],
      "metadata": {
        "colab": {
          "base_uri": "https://localhost:8080/"
        },
        "id": "y-QIHrQOfDnR",
        "outputId": "ee3a86a1-d525-4ba0-9e3c-f041de55e4eb"
      },
      "execution_count": 33,
      "outputs": [
        {
          "output_type": "stream",
          "name": "stdout",
          "text": [
            "Texto original: Hola, hoy es 15 de julio.\n",
            "Traducción a italiano: Ciao, oggi è il 15 luglio.\n"
          ]
        }
      ]
    },
    {
      "cell_type": "markdown",
      "source": [
        "**Ruso**"
      ],
      "metadata": {
        "id": "YLWOQj3XfMZk"
      }
    },
    {
      "cell_type": "code",
      "source": [
        "idioma = \"ruso\"\n",
        "\n",
        "traduccion = translate(corpus, idioma)\n",
        "print(f\"Texto original: {corpus}\")\n",
        "print(f\"Traducción a {idioma}: {traduccion}\")"
      ],
      "metadata": {
        "colab": {
          "base_uri": "https://localhost:8080/"
        },
        "id": "vrm5Fi6zfLL-",
        "outputId": "c73b2a9e-b88c-40e3-b2f3-42b4a806d15c"
      },
      "execution_count": 34,
      "outputs": [
        {
          "output_type": "stream",
          "name": "stdout",
          "text": [
            "Texto original: Hola, hoy es 15 de julio.\n",
            "Traducción a ruso: Здравствуйте, сегодня 15 июля.\n"
          ]
        }
      ]
    },
    {
      "cell_type": "markdown",
      "source": [
        "**Urdu**"
      ],
      "metadata": {
        "id": "I8B60t0ofU5a"
      }
    },
    {
      "cell_type": "code",
      "source": [
        "idioma = \"urdu\"\n",
        "\n",
        "traduccion = translate(corpus, idioma)\n",
        "print(f\"Texto original: {corpus}\")\n",
        "print(f\"Traducción a {idioma}: {traduccion}\")"
      ],
      "metadata": {
        "colab": {
          "base_uri": "https://localhost:8080/"
        },
        "id": "29hmoQOpfQh5",
        "outputId": "f7789bc1-cae1-4778-ee04-f7009c7fa32d"
      },
      "execution_count": 38,
      "outputs": [
        {
          "output_type": "stream",
          "name": "stdout",
          "text": [
            "Texto original: Hola, hoy es 15 de julio.\n",
            "Traducción a urdu: ہیلو، آج 15 جولائی ہے.\n"
          ]
        }
      ]
    },
    {
      "cell_type": "markdown",
      "source": [
        "**Alemán**"
      ],
      "metadata": {
        "id": "S_XzTJ4agC9H"
      }
    },
    {
      "cell_type": "code",
      "source": [
        "idioma = \"alemán\"\n",
        "\n",
        "traduccion = translate(corpus, idioma)\n",
        "print(f\"Texto original: {corpus}\")\n",
        "print(f\"Traducción a {idioma}: {traduccion}\")"
      ],
      "metadata": {
        "colab": {
          "base_uri": "https://localhost:8080/"
        },
        "id": "45Ls4aUofZpy",
        "outputId": "3184a776-9cba-4d7b-8fdd-8328a87143f4"
      },
      "execution_count": 40,
      "outputs": [
        {
          "output_type": "stream",
          "name": "stdout",
          "text": [
            "Texto original: Hola, hoy es 15 de julio.\n",
            "Traducción a alemán: Hallo, heute ist der 15. Juli.\n"
          ]
        }
      ]
    },
    {
      "cell_type": "markdown",
      "source": [
        "# Text to Speech (TTS) using Bark model: Synthesize phase\n",
        "\n",
        "### 1. Installing Bark"
      ],
      "metadata": {
        "id": "KVDNYUnyixr_"
      }
    },
    {
      "cell_type": "code",
      "source": [
        "!pip install git+https://github.com/suno-ai/bark.git"
      ],
      "metadata": {
        "colab": {
          "base_uri": "https://localhost:8080/"
        },
        "id": "_UQ3Vt_KgHPA",
        "outputId": "179c9a6d-30da-4b9b-c8cf-cede9aee6c5f"
      },
      "execution_count": 1,
      "outputs": [
        {
          "output_type": "stream",
          "name": "stdout",
          "text": [
            "Collecting git+https://github.com/suno-ai/bark.git\n",
            "  Cloning https://github.com/suno-ai/bark.git to /tmp/pip-req-build-w4zhdvr6\n",
            "  Running command git clone --filter=blob:none --quiet https://github.com/suno-ai/bark.git /tmp/pip-req-build-w4zhdvr6\n",
            "  Resolved https://github.com/suno-ai/bark.git to commit f4f32d4cd480dfec1c245d258174bc9bde3c2148\n",
            "  Installing build dependencies ... \u001b[?25l\u001b[?25hdone\n",
            "  Getting requirements to build wheel ... \u001b[?25l\u001b[?25hdone\n",
            "  Preparing metadata (pyproject.toml) ... \u001b[?25l\u001b[?25hdone\n",
            "Requirement already satisfied: boto3 in /usr/local/lib/python3.11/dist-packages (from suno-bark==0.0.1a0) (1.38.36)\n",
            "Requirement already satisfied: encodec in /usr/local/lib/python3.11/dist-packages (from suno-bark==0.0.1a0) (0.1.1)\n",
            "Requirement already satisfied: funcy in /usr/local/lib/python3.11/dist-packages (from suno-bark==0.0.1a0) (2.0)\n",
            "Requirement already satisfied: huggingface-hub>=0.14.1 in /usr/local/lib/python3.11/dist-packages (from suno-bark==0.0.1a0) (0.32.4)\n",
            "Requirement already satisfied: numpy in /usr/local/lib/python3.11/dist-packages (from suno-bark==0.0.1a0) (2.0.2)\n",
            "Requirement already satisfied: scipy in /usr/local/lib/python3.11/dist-packages (from suno-bark==0.0.1a0) (1.15.3)\n",
            "Requirement already satisfied: tokenizers in /usr/local/lib/python3.11/dist-packages (from suno-bark==0.0.1a0) (0.21.1)\n",
            "Requirement already satisfied: torch in /usr/local/lib/python3.11/dist-packages (from suno-bark==0.0.1a0) (2.6.0+cu124)\n",
            "Requirement already satisfied: tqdm in /usr/local/lib/python3.11/dist-packages (from suno-bark==0.0.1a0) (4.67.1)\n",
            "Requirement already satisfied: transformers in /usr/local/lib/python3.11/dist-packages (from suno-bark==0.0.1a0) (4.53.0.dev0)\n",
            "Requirement already satisfied: filelock in /usr/local/lib/python3.11/dist-packages (from huggingface-hub>=0.14.1->suno-bark==0.0.1a0) (3.18.0)\n",
            "Requirement already satisfied: fsspec>=2023.5.0 in /usr/local/lib/python3.11/dist-packages (from huggingface-hub>=0.14.1->suno-bark==0.0.1a0) (2025.3.2)\n",
            "Requirement already satisfied: packaging>=20.9 in /usr/local/lib/python3.11/dist-packages (from huggingface-hub>=0.14.1->suno-bark==0.0.1a0) (24.2)\n",
            "Requirement already satisfied: pyyaml>=5.1 in /usr/local/lib/python3.11/dist-packages (from huggingface-hub>=0.14.1->suno-bark==0.0.1a0) (6.0.2)\n",
            "Requirement already satisfied: requests in /usr/local/lib/python3.11/dist-packages (from huggingface-hub>=0.14.1->suno-bark==0.0.1a0) (2.32.3)\n",
            "Requirement already satisfied: typing-extensions>=3.7.4.3 in /usr/local/lib/python3.11/dist-packages (from huggingface-hub>=0.14.1->suno-bark==0.0.1a0) (4.14.0)\n",
            "Requirement already satisfied: hf-xet<2.0.0,>=1.1.2 in /usr/local/lib/python3.11/dist-packages (from huggingface-hub>=0.14.1->suno-bark==0.0.1a0) (1.1.2)\n",
            "Requirement already satisfied: botocore<1.39.0,>=1.38.36 in /usr/local/lib/python3.11/dist-packages (from boto3->suno-bark==0.0.1a0) (1.38.36)\n",
            "Requirement already satisfied: jmespath<2.0.0,>=0.7.1 in /usr/local/lib/python3.11/dist-packages (from boto3->suno-bark==0.0.1a0) (1.0.1)\n",
            "Requirement already satisfied: s3transfer<0.14.0,>=0.13.0 in /usr/local/lib/python3.11/dist-packages (from boto3->suno-bark==0.0.1a0) (0.13.0)\n",
            "Requirement already satisfied: torchaudio in /usr/local/lib/python3.11/dist-packages (from encodec->suno-bark==0.0.1a0) (2.6.0+cu124)\n",
            "Requirement already satisfied: einops in /usr/local/lib/python3.11/dist-packages (from encodec->suno-bark==0.0.1a0) (0.8.1)\n",
            "Requirement already satisfied: networkx in /usr/local/lib/python3.11/dist-packages (from torch->suno-bark==0.0.1a0) (3.5)\n",
            "Requirement already satisfied: jinja2 in /usr/local/lib/python3.11/dist-packages (from torch->suno-bark==0.0.1a0) (3.1.6)\n",
            "Requirement already satisfied: nvidia-cuda-nvrtc-cu12==12.4.127 in /usr/local/lib/python3.11/dist-packages (from torch->suno-bark==0.0.1a0) (12.4.127)\n",
            "Requirement already satisfied: nvidia-cuda-runtime-cu12==12.4.127 in /usr/local/lib/python3.11/dist-packages (from torch->suno-bark==0.0.1a0) (12.4.127)\n",
            "Requirement already satisfied: nvidia-cuda-cupti-cu12==12.4.127 in /usr/local/lib/python3.11/dist-packages (from torch->suno-bark==0.0.1a0) (12.4.127)\n",
            "Requirement already satisfied: nvidia-cudnn-cu12==9.1.0.70 in /usr/local/lib/python3.11/dist-packages (from torch->suno-bark==0.0.1a0) (9.1.0.70)\n",
            "Requirement already satisfied: nvidia-cublas-cu12==12.4.5.8 in /usr/local/lib/python3.11/dist-packages (from torch->suno-bark==0.0.1a0) (12.4.5.8)\n",
            "Requirement already satisfied: nvidia-cufft-cu12==11.2.1.3 in /usr/local/lib/python3.11/dist-packages (from torch->suno-bark==0.0.1a0) (11.2.1.3)\n",
            "Requirement already satisfied: nvidia-curand-cu12==10.3.5.147 in /usr/local/lib/python3.11/dist-packages (from torch->suno-bark==0.0.1a0) (10.3.5.147)\n",
            "Requirement already satisfied: nvidia-cusolver-cu12==11.6.1.9 in /usr/local/lib/python3.11/dist-packages (from torch->suno-bark==0.0.1a0) (11.6.1.9)\n",
            "Requirement already satisfied: nvidia-cusparse-cu12==12.3.1.170 in /usr/local/lib/python3.11/dist-packages (from torch->suno-bark==0.0.1a0) (12.3.1.170)\n",
            "Requirement already satisfied: nvidia-cusparselt-cu12==0.6.2 in /usr/local/lib/python3.11/dist-packages (from torch->suno-bark==0.0.1a0) (0.6.2)\n",
            "Requirement already satisfied: nvidia-nccl-cu12==2.21.5 in /usr/local/lib/python3.11/dist-packages (from torch->suno-bark==0.0.1a0) (2.21.5)\n",
            "Requirement already satisfied: nvidia-nvtx-cu12==12.4.127 in /usr/local/lib/python3.11/dist-packages (from torch->suno-bark==0.0.1a0) (12.4.127)\n",
            "Requirement already satisfied: nvidia-nvjitlink-cu12==12.4.127 in /usr/local/lib/python3.11/dist-packages (from torch->suno-bark==0.0.1a0) (12.4.127)\n",
            "Requirement already satisfied: triton==3.2.0 in /usr/local/lib/python3.11/dist-packages (from torch->suno-bark==0.0.1a0) (3.2.0)\n",
            "Requirement already satisfied: sympy==1.13.1 in /usr/local/lib/python3.11/dist-packages (from torch->suno-bark==0.0.1a0) (1.13.1)\n",
            "Requirement already satisfied: mpmath<1.4,>=1.1.0 in /usr/local/lib/python3.11/dist-packages (from sympy==1.13.1->torch->suno-bark==0.0.1a0) (1.3.0)\n",
            "Requirement already satisfied: regex!=2019.12.17 in /usr/local/lib/python3.11/dist-packages (from transformers->suno-bark==0.0.1a0) (2024.11.6)\n",
            "Requirement already satisfied: safetensors>=0.4.3 in /usr/local/lib/python3.11/dist-packages (from transformers->suno-bark==0.0.1a0) (0.5.3)\n",
            "Requirement already satisfied: python-dateutil<3.0.0,>=2.1 in /usr/local/lib/python3.11/dist-packages (from botocore<1.39.0,>=1.38.36->boto3->suno-bark==0.0.1a0) (2.9.0.post0)\n",
            "Requirement already satisfied: urllib3!=2.2.0,<3,>=1.25.4 in /usr/local/lib/python3.11/dist-packages (from botocore<1.39.0,>=1.38.36->boto3->suno-bark==0.0.1a0) (2.4.0)\n",
            "Requirement already satisfied: MarkupSafe>=2.0 in /usr/local/lib/python3.11/dist-packages (from jinja2->torch->suno-bark==0.0.1a0) (3.0.2)\n",
            "Requirement already satisfied: charset-normalizer<4,>=2 in /usr/local/lib/python3.11/dist-packages (from requests->huggingface-hub>=0.14.1->suno-bark==0.0.1a0) (3.4.2)\n",
            "Requirement already satisfied: idna<4,>=2.5 in /usr/local/lib/python3.11/dist-packages (from requests->huggingface-hub>=0.14.1->suno-bark==0.0.1a0) (3.10)\n",
            "Requirement already satisfied: certifi>=2017.4.17 in /usr/local/lib/python3.11/dist-packages (from requests->huggingface-hub>=0.14.1->suno-bark==0.0.1a0) (2025.4.26)\n",
            "Requirement already satisfied: six>=1.5 in /usr/local/lib/python3.11/dist-packages (from python-dateutil<3.0.0,>=2.1->botocore<1.39.0,>=1.38.36->boto3->suno-bark==0.0.1a0) (1.17.0)\n"
          ]
        }
      ]
    },
    {
      "cell_type": "code",
      "source": [
        "!pip install git+https://github.com/huggingface/transformers.git\n",
        "!pip install scipy"
      ],
      "metadata": {
        "colab": {
          "base_uri": "https://localhost:8080/"
        },
        "id": "Jzyn-qc0tmwN",
        "outputId": "55a08336-4ff3-4220-b4a2-6183fcbce0b5"
      },
      "execution_count": 2,
      "outputs": [
        {
          "output_type": "stream",
          "name": "stdout",
          "text": [
            "Collecting git+https://github.com/huggingface/transformers.git\n",
            "  Cloning https://github.com/huggingface/transformers.git to /tmp/pip-req-build-xszqnjjr\n",
            "  Running command git clone --filter=blob:none --quiet https://github.com/huggingface/transformers.git /tmp/pip-req-build-xszqnjjr\n",
            "  Resolved https://github.com/huggingface/transformers.git to commit d5d007a1a0f0c11a726a54c8f00bd71825f84d02\n",
            "  Installing build dependencies ... \u001b[?25l\u001b[?25hdone\n",
            "  Getting requirements to build wheel ... \u001b[?25l\u001b[?25hdone\n",
            "  Preparing metadata (pyproject.toml) ... \u001b[?25l\u001b[?25hdone\n",
            "Requirement already satisfied: filelock in /usr/local/lib/python3.11/dist-packages (from transformers==4.53.0.dev0) (3.18.0)\n",
            "Requirement already satisfied: huggingface-hub<1.0,>=0.30.0 in /usr/local/lib/python3.11/dist-packages (from transformers==4.53.0.dev0) (0.32.4)\n",
            "Requirement already satisfied: numpy>=1.17 in /usr/local/lib/python3.11/dist-packages (from transformers==4.53.0.dev0) (2.0.2)\n",
            "Requirement already satisfied: packaging>=20.0 in /usr/local/lib/python3.11/dist-packages (from transformers==4.53.0.dev0) (24.2)\n",
            "Requirement already satisfied: pyyaml>=5.1 in /usr/local/lib/python3.11/dist-packages (from transformers==4.53.0.dev0) (6.0.2)\n",
            "Requirement already satisfied: regex!=2019.12.17 in /usr/local/lib/python3.11/dist-packages (from transformers==4.53.0.dev0) (2024.11.6)\n",
            "Requirement already satisfied: requests in /usr/local/lib/python3.11/dist-packages (from transformers==4.53.0.dev0) (2.32.3)\n",
            "Requirement already satisfied: tokenizers<0.22,>=0.21 in /usr/local/lib/python3.11/dist-packages (from transformers==4.53.0.dev0) (0.21.1)\n",
            "Requirement already satisfied: safetensors>=0.4.3 in /usr/local/lib/python3.11/dist-packages (from transformers==4.53.0.dev0) (0.5.3)\n",
            "Requirement already satisfied: tqdm>=4.27 in /usr/local/lib/python3.11/dist-packages (from transformers==4.53.0.dev0) (4.67.1)\n",
            "Requirement already satisfied: fsspec>=2023.5.0 in /usr/local/lib/python3.11/dist-packages (from huggingface-hub<1.0,>=0.30.0->transformers==4.53.0.dev0) (2025.3.2)\n",
            "Requirement already satisfied: typing-extensions>=3.7.4.3 in /usr/local/lib/python3.11/dist-packages (from huggingface-hub<1.0,>=0.30.0->transformers==4.53.0.dev0) (4.14.0)\n",
            "Requirement already satisfied: hf-xet<2.0.0,>=1.1.2 in /usr/local/lib/python3.11/dist-packages (from huggingface-hub<1.0,>=0.30.0->transformers==4.53.0.dev0) (1.1.2)\n",
            "Requirement already satisfied: charset-normalizer<4,>=2 in /usr/local/lib/python3.11/dist-packages (from requests->transformers==4.53.0.dev0) (3.4.2)\n",
            "Requirement already satisfied: idna<4,>=2.5 in /usr/local/lib/python3.11/dist-packages (from requests->transformers==4.53.0.dev0) (3.10)\n",
            "Requirement already satisfied: urllib3<3,>=1.21.1 in /usr/local/lib/python3.11/dist-packages (from requests->transformers==4.53.0.dev0) (2.4.0)\n",
            "Requirement already satisfied: certifi>=2017.4.17 in /usr/local/lib/python3.11/dist-packages (from requests->transformers==4.53.0.dev0) (2025.4.26)\n",
            "Requirement already satisfied: scipy in /usr/local/lib/python3.11/dist-packages (1.15.3)\n",
            "Requirement already satisfied: numpy<2.5,>=1.23.5 in /usr/local/lib/python3.11/dist-packages (from scipy) (2.0.2)\n"
          ]
        }
      ]
    },
    {
      "cell_type": "markdown",
      "source": [
        "### 2. Setting model load"
      ],
      "metadata": {
        "id": "potVlN9kmkmG"
      }
    },
    {
      "cell_type": "code",
      "source": [
        "from transformers import AutoProcessor, BarkModel\n",
        "from IPython.display import Audio\n",
        "import scipy\n",
        "\n",
        "processor = AutoProcessor.from_pretrained(\"suno/bark\")\n",
        "model = BarkModel.from_pretrained(\"suno/bark\")"
      ],
      "metadata": {
        "colab": {
          "base_uri": "https://localhost:8080/",
          "height": 173,
          "referenced_widgets": [
            "529c783fd1bb49d78fde21eae074b0fb",
            "e31e088c21414a1095fb21bf50a3a340",
            "3bd9838cecc5486fadfc9675cf5b3ed9",
            "e15b79c6fbe34fe48102a65ca6fe5a5e",
            "087225410c8b4a2aa0ba822cfcbd139f",
            "a4faaecf4ff74064b725c7419f5549ec",
            "044da0eee4344419befda10aeef95c78",
            "5a35c8d7e4a24cd3b4a5373a39184571",
            "47a7e040a44a4bd2938a303138c0e404",
            "c0a032d4ca6d4ab1b943c87d84abc53d",
            "9f2543a11edf4b58b508f44fe27bf003"
          ]
        },
        "id": "MPnuLi-Jmhoy",
        "outputId": "5bed0083-e612-4dfc-e4a2-e77e3ff688d6"
      },
      "execution_count": 3,
      "outputs": [
        {
          "output_type": "stream",
          "name": "stderr",
          "text": [
            "/usr/local/lib/python3.11/dist-packages/huggingface_hub/utils/_auth.py:94: UserWarning: \n",
            "The secret `HF_TOKEN` does not exist in your Colab secrets.\n",
            "To authenticate with the Hugging Face Hub, create a token in your settings tab (https://huggingface.co/settings/tokens), set it as secret in your Google Colab and restart your session.\n",
            "You will be able to reuse this secret in all of your notebooks.\n",
            "Please note that authentication is recommended but still optional to access public models or datasets.\n",
            "  warnings.warn(\n"
          ]
        },
        {
          "output_type": "display_data",
          "data": {
            "text/plain": [
              "generation_config.json:   0%|          | 0.00/4.91k [00:00<?, ?B/s]"
            ],
            "application/vnd.jupyter.widget-view+json": {
              "version_major": 2,
              "version_minor": 0,
              "model_id": "529c783fd1bb49d78fde21eae074b0fb"
            }
          },
          "metadata": {}
        }
      ]
    },
    {
      "cell_type": "markdown",
      "source": [
        "### 3. Generating voice"
      ],
      "metadata": {
        "id": "gm5nCxUtjsxd"
      }
    },
    {
      "cell_type": "code",
      "source": [
        "def generar_audio_con_bark(texto, idioma, genero=\"neutral\", nombre_archivo=None):\n",
        "\n",
        "    idioma = idioma.lower()\n",
        "    genero = genero.lower()\n",
        "\n",
        "    presets_por_idioma_genero = {\n",
        "        \"español\": {\"masculino\": \"v2/es_speaker_0\", \"femenino\": \"v2/es_speaker_1\"},\n",
        "        \"inglés\":  {\"masculino\": \"v2/en_speaker_6\", \"femenino\": \"v2/en_speaker_1\"},\n",
        "        \"francés\": {\"masculino\": \"v2/fr_speaker_0\", \"femenino\": \"v2/fr_speaker_1\"},\n",
        "        \"italiano\": {\"masculino\": \"v2/it_speaker_0\", \"femenino\": \"v2/it_speaker_1\"},\n",
        "        \"coreano\": {\"masculino\": \"v2/ko_speaker_0\", \"femenino\": \"v2/ko_speaker_4\"},\n",
        "        \"japonés\": {\"masculino\": \"v2/ja_speaker_0\", \"femenino\": \"v2/ja_speaker_4\"},\n",
        "        \"chino\":   {\"masculino\": \"v2/zh_speaker_0\", \"femenino\": \"v2/zh_speaker_4\"},\n",
        "        \"ruso\":    {\"masculino\": \"v2/ru_speaker_0\", \"femenino\": \"v2/ru_speaker_1\"},\n",
        "        \"portugués\": {\"masculino\": \"v2/pt_speaker_0\", \"femenino\": \"v2/pt_speaker_1\"},\n",
        "        \"alemán\": {\"masculino\": \"v2/de_speaker_0\", \"femenino\": \"v2/de_speaker_1\"},\n",
        "        \"turco\": {\"masculino\": \"v2/tr_speaker_0\", \"femenino\": \"v2/tr_speaker_1\"},\n",
        "        \"hindi\": {\"masculino\": \"v2/hi_speaker_0\", \"femenino\": \"v2/hi_speaker_1\"},\n",
        "        \"polaco\": {\"masculino\": \"v2/pl_speaker_0\", \"femenino\": \"v2/pl_speaker_1\"},\n",
        "    }\n",
        "\n",
        "    preset_por_genero = presets_por_idioma_genero.get(idioma, {})\n",
        "    voice_preset = preset_por_genero.get(genero)\n",
        "\n",
        "    if voice_preset is None:\n",
        "        print(f\"No se encontró voz para {idioma} ({genero}). Usando voz por defecto.\")\n",
        "        voice_preset = \"v2/es_speaker_1\"\n",
        "\n",
        "    inputs = processor(texto, voice_preset=voice_preset)\n",
        "\n",
        "    audio_array = model.generate(**inputs).cpu().numpy().squeeze()\n",
        "\n",
        "    sample_rate = model.generation_config.sample_rate\n",
        "\n",
        "    if nombre_archivo is None:\n",
        "        nombre_archivo = f\"audio_{idioma}_{genero}.wav\"\n",
        "    else:\n",
        "        if not nombre_archivo.endswith(\".wav\"):\n",
        "            nombre_archivo += \".wav\"\n",
        "\n",
        "    scipy.io.wavfile.write(nombre_archivo, rate=sample_rate, data=audio_array)\n",
        "    print(f\"Audio guardado como: {nombre_archivo}\")\n",
        "\n",
        "    return Audio(audio_array, rate=sample_rate)\n"
      ],
      "metadata": {
        "id": "swAPwuvEuonB"
      },
      "execution_count": 6,
      "outputs": []
    },
    {
      "cell_type": "code",
      "source": [
        "generar_audio_con_bark(\n",
        "    texto=\"Hola, me alegra saludarte.\",\n",
        "    idioma=\"español\",\n",
        "    genero=\"femenino\"\n",
        ")"
      ],
      "metadata": {
        "colab": {
          "base_uri": "https://localhost:8080/",
          "height": 147
        },
        "id": "KJL39F2Nj6AT",
        "outputId": "54b69989-f2a7-4e56-ada3-035c870643ad"
      },
      "execution_count": 7,
      "outputs": [
        {
          "output_type": "stream",
          "name": "stderr",
          "text": [
            "The attention mask and the pad token id were not set. As a consequence, you may observe unexpected behavior. Please pass your input's `attention_mask` to obtain reliable results.\n",
            "Setting `pad_token_id` to `eos_token_id`:10000 for open-end generation.\n"
          ]
        },
        {
          "output_type": "stream",
          "name": "stdout",
          "text": [
            "Audio guardado como: audio_español_femenino.wav\n"
          ]
        },
        {
          "output_type": "execute_result",
          "data": {
            "text/plain": [
              "<IPython.lib.display.Audio object>"
            ],
            "text/html": [
              "\n",
              "                <audio  controls=\"controls\" >\n",
              "                    <source src=\"data:audio/wav;base64,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\" type=\"audio/wav\" />\n",
              "                    Your browser does not support the audio element.\n",
              "                </audio>\n",
              "              "
            ]
          },
          "metadata": {},
          "execution_count": 7
        }
      ]
    },
    {
      "cell_type": "code",
      "source": [],
      "metadata": {
        "id": "b1oVAUfhoD0n"
      },
      "execution_count": null,
      "outputs": []
    }
  ],
  "metadata": {
    "accelerator": "GPU",
    "colab": {
      "provenance": []
    },
    "gpuClass": "standard",
    "kernelspec": {
      "display_name": "Python 3 (ipykernel)",
      "language": "python",
      "name": "python3"
    },
    "language_info": {
      "codemirror_mode": {
        "name": "ipython",
        "version": 3
      },
      "file_extension": ".py",
      "mimetype": "text/x-python",
      "name": "python",
      "nbconvert_exporter": "python",
      "pygments_lexer": "ipython3",
      "version": "3.9.9"
    },
    "widgets": {
      "application/vnd.jupyter.widget-state+json": {
        "103a4eccb3bf41f08d75f0bdf9a5199e": {
          "model_module": "jupyter-webrtc",
          "model_name": "AudioRecorderModel",
          "model_module_version": "~0.6.0",
          "state": {
            "_data_src": "blob:https://usayupd8jpe-496ff2e9c6d22116-0-colab.googleusercontent.com/c82f857b-1c63-483b-9355-ddc32ef0075c",
            "_dom_classes": [],
            "_model_module": "jupyter-webrtc",
            "_model_module_version": "~0.6.0",
            "_model_name": "AudioRecorderModel",
            "_view_count": null,
            "_view_module": "jupyter-webrtc",
            "_view_module_version": "~0.6.0",
            "_view_name": "AudioRecorderView",
            "audio": "IPY_MODEL_da10f49d41da4f279fa50ce8bd6cc792",
            "autosave": false,
            "codecs": "",
            "filename": "record",
            "format": "webm",
            "layout": "IPY_MODEL_22bddc19046c4284a3b3bd6b694d7fb3",
            "recording": false,
            "stream": "IPY_MODEL_6d9706c7936a4c9680dad884af3ad6dc"
          }
        },
        "da10f49d41da4f279fa50ce8bd6cc792": {
          "model_module": "@jupyter-widgets/controls",
          "model_name": "AudioModel",
          "model_module_version": "1.5.0",
          "state": {
            "_dom_classes": [],
            "_model_module": "@jupyter-widgets/controls",
            "_model_module_version": "1.5.0",
            "_model_name": "AudioModel",
            "_view_count": null,
            "_view_module": "@jupyter-widgets/controls",
            "_view_module_version": "1.5.0",
            "_view_name": "AudioView",
            "autoplay": true,
            "controls": true,
            "format": "webm",
            "layout": "IPY_MODEL_5aaa611d56504e66a3af2a58ec207fc0",
            "loop": true
          }
        },
        "22bddc19046c4284a3b3bd6b694d7fb3": {
          "model_module": "@jupyter-widgets/base",
          "model_name": "LayoutModel",
          "model_module_version": "1.2.0",
          "state": {
            "_model_module": "@jupyter-widgets/base",
            "_model_module_version": "1.2.0",
            "_model_name": "LayoutModel",
            "_view_count": null,
            "_view_module": "@jupyter-widgets/base",
            "_view_module_version": "1.2.0",
            "_view_name": "LayoutView",
            "align_content": null,
            "align_items": null,
            "align_self": null,
            "border": null,
            "bottom": null,
            "display": null,
            "flex": null,
            "flex_flow": null,
            "grid_area": null,
            "grid_auto_columns": null,
            "grid_auto_flow": null,
            "grid_auto_rows": null,
            "grid_column": null,
            "grid_gap": null,
            "grid_row": null,
            "grid_template_areas": null,
            "grid_template_columns": null,
            "grid_template_rows": null,
            "height": null,
            "justify_content": null,
            "justify_items": null,
            "left": null,
            "margin": null,
            "max_height": null,
            "max_width": null,
            "min_height": null,
            "min_width": null,
            "object_fit": null,
            "object_position": null,
            "order": null,
            "overflow": null,
            "overflow_x": null,
            "overflow_y": null,
            "padding": null,
            "right": null,
            "top": null,
            "visibility": null,
            "width": null
          }
        },
        "6d9706c7936a4c9680dad884af3ad6dc": {
          "model_module": "jupyter-webrtc",
          "model_name": "CameraStreamModel",
          "model_module_version": "~0.6.0",
          "state": {
            "_dom_classes": [],
            "_model_module": "jupyter-webrtc",
            "_model_module_version": "~0.6.0",
            "_model_name": "CameraStreamModel",
            "_view_count": null,
            "_view_module": "jupyter-webrtc",
            "_view_module_version": "~0.6.0",
            "_view_name": "MediaStreamView",
            "constraints": {
              "audio": true,
              "video": false
            },
            "layout": "IPY_MODEL_2430b381fb5e4cd387a1b6f39ccfd8be"
          }
        },
        "5aaa611d56504e66a3af2a58ec207fc0": {
          "model_module": "@jupyter-widgets/base",
          "model_name": "LayoutModel",
          "model_module_version": "1.2.0",
          "state": {
            "_model_module": "@jupyter-widgets/base",
            "_model_module_version": "1.2.0",
            "_model_name": "LayoutModel",
            "_view_count": null,
            "_view_module": "@jupyter-widgets/base",
            "_view_module_version": "1.2.0",
            "_view_name": "LayoutView",
            "align_content": null,
            "align_items": null,
            "align_self": null,
            "border": null,
            "bottom": null,
            "display": null,
            "flex": null,
            "flex_flow": null,
            "grid_area": null,
            "grid_auto_columns": null,
            "grid_auto_flow": null,
            "grid_auto_rows": null,
            "grid_column": null,
            "grid_gap": null,
            "grid_row": null,
            "grid_template_areas": null,
            "grid_template_columns": null,
            "grid_template_rows": null,
            "height": null,
            "justify_content": null,
            "justify_items": null,
            "left": null,
            "margin": null,
            "max_height": null,
            "max_width": null,
            "min_height": null,
            "min_width": null,
            "object_fit": null,
            "object_position": null,
            "order": null,
            "overflow": null,
            "overflow_x": null,
            "overflow_y": null,
            "padding": null,
            "right": null,
            "top": null,
            "visibility": null,
            "width": null
          }
        },
        "2430b381fb5e4cd387a1b6f39ccfd8be": {
          "model_module": "@jupyter-widgets/base",
          "model_name": "LayoutModel",
          "model_module_version": "1.2.0",
          "state": {
            "_model_module": "@jupyter-widgets/base",
            "_model_module_version": "1.2.0",
            "_model_name": "LayoutModel",
            "_view_count": null,
            "_view_module": "@jupyter-widgets/base",
            "_view_module_version": "1.2.0",
            "_view_name": "LayoutView",
            "align_content": null,
            "align_items": null,
            "align_self": null,
            "border": null,
            "bottom": null,
            "display": null,
            "flex": null,
            "flex_flow": null,
            "grid_area": null,
            "grid_auto_columns": null,
            "grid_auto_flow": null,
            "grid_auto_rows": null,
            "grid_column": null,
            "grid_gap": null,
            "grid_row": null,
            "grid_template_areas": null,
            "grid_template_columns": null,
            "grid_template_rows": null,
            "height": null,
            "justify_content": null,
            "justify_items": null,
            "left": null,
            "margin": null,
            "max_height": null,
            "max_width": null,
            "min_height": null,
            "min_width": null,
            "object_fit": null,
            "object_position": null,
            "order": null,
            "overflow": null,
            "overflow_x": null,
            "overflow_y": null,
            "padding": null,
            "right": null,
            "top": null,
            "visibility": null,
            "width": null
          }
        },
        "414db9f4394a47c28d3bf6ef3d8bd52c": {
          "model_module": "@jupyter-widgets/controls",
          "model_name": "HBoxModel",
          "model_module_version": "1.5.0",
          "state": {
            "_dom_classes": [],
            "_model_module": "@jupyter-widgets/controls",
            "_model_module_version": "1.5.0",
            "_model_name": "HBoxModel",
            "_view_count": null,
            "_view_module": "@jupyter-widgets/controls",
            "_view_module_version": "1.5.0",
            "_view_name": "HBoxView",
            "box_style": "",
            "children": [
              "IPY_MODEL_e0e59bb7f3564ba180af816d2505c9d6",
              "IPY_MODEL_1385521d6b7d4945b22f6434af20312b",
              "IPY_MODEL_1c463490247045bb949cca471c6c3057"
            ],
            "layout": "IPY_MODEL_b460ca478bd54c3ebd3e62ccab2d69aa"
          }
        },
        "e0e59bb7f3564ba180af816d2505c9d6": {
          "model_module": "@jupyter-widgets/controls",
          "model_name": "HTMLModel",
          "model_module_version": "1.5.0",
          "state": {
            "_dom_classes": [],
            "_model_module": "@jupyter-widgets/controls",
            "_model_module_version": "1.5.0",
            "_model_name": "HTMLModel",
            "_view_count": null,
            "_view_module": "@jupyter-widgets/controls",
            "_view_module_version": "1.5.0",
            "_view_name": "HTMLView",
            "description": "",
            "description_tooltip": null,
            "layout": "IPY_MODEL_02847f2a8d0446f598ce13e2b6a7245c",
            "placeholder": "​",
            "style": "IPY_MODEL_c077e973f21a45128a9a4a5c1e1723a7",
            "value": "tokenizer_config.json: 100%"
          }
        },
        "1385521d6b7d4945b22f6434af20312b": {
          "model_module": "@jupyter-widgets/controls",
          "model_name": "FloatProgressModel",
          "model_module_version": "1.5.0",
          "state": {
            "_dom_classes": [],
            "_model_module": "@jupyter-widgets/controls",
            "_model_module_version": "1.5.0",
            "_model_name": "FloatProgressModel",
            "_view_count": null,
            "_view_module": "@jupyter-widgets/controls",
            "_view_module_version": "1.5.0",
            "_view_name": "ProgressView",
            "bar_style": "success",
            "description": "",
            "description_tooltip": null,
            "layout": "IPY_MODEL_fe45de0effa74a4db854b35b042be900",
            "max": 564,
            "min": 0,
            "orientation": "horizontal",
            "style": "IPY_MODEL_aa7eee70259248549e9a18270ca6c440",
            "value": 564
          }
        },
        "1c463490247045bb949cca471c6c3057": {
          "model_module": "@jupyter-widgets/controls",
          "model_name": "HTMLModel",
          "model_module_version": "1.5.0",
          "state": {
            "_dom_classes": [],
            "_model_module": "@jupyter-widgets/controls",
            "_model_module_version": "1.5.0",
            "_model_name": "HTMLModel",
            "_view_count": null,
            "_view_module": "@jupyter-widgets/controls",
            "_view_module_version": "1.5.0",
            "_view_name": "HTMLView",
            "description": "",
            "description_tooltip": null,
            "layout": "IPY_MODEL_50c83c99892c467aacd44c70ee6eb78c",
            "placeholder": "​",
            "style": "IPY_MODEL_893a9996f1c74229bf959cd43b7c4076",
            "value": " 564/564 [00:00&lt;00:00, 54.4kB/s]"
          }
        },
        "b460ca478bd54c3ebd3e62ccab2d69aa": {
          "model_module": "@jupyter-widgets/base",
          "model_name": "LayoutModel",
          "model_module_version": "1.2.0",
          "state": {
            "_model_module": "@jupyter-widgets/base",
            "_model_module_version": "1.2.0",
            "_model_name": "LayoutModel",
            "_view_count": null,
            "_view_module": "@jupyter-widgets/base",
            "_view_module_version": "1.2.0",
            "_view_name": "LayoutView",
            "align_content": null,
            "align_items": null,
            "align_self": null,
            "border": null,
            "bottom": null,
            "display": null,
            "flex": null,
            "flex_flow": null,
            "grid_area": null,
            "grid_auto_columns": null,
            "grid_auto_flow": null,
            "grid_auto_rows": null,
            "grid_column": null,
            "grid_gap": null,
            "grid_row": null,
            "grid_template_areas": null,
            "grid_template_columns": null,
            "grid_template_rows": null,
            "height": null,
            "justify_content": null,
            "justify_items": null,
            "left": null,
            "margin": null,
            "max_height": null,
            "max_width": null,
            "min_height": null,
            "min_width": null,
            "object_fit": null,
            "object_position": null,
            "order": null,
            "overflow": null,
            "overflow_x": null,
            "overflow_y": null,
            "padding": null,
            "right": null,
            "top": null,
            "visibility": null,
            "width": null
          }
        },
        "02847f2a8d0446f598ce13e2b6a7245c": {
          "model_module": "@jupyter-widgets/base",
          "model_name": "LayoutModel",
          "model_module_version": "1.2.0",
          "state": {
            "_model_module": "@jupyter-widgets/base",
            "_model_module_version": "1.2.0",
            "_model_name": "LayoutModel",
            "_view_count": null,
            "_view_module": "@jupyter-widgets/base",
            "_view_module_version": "1.2.0",
            "_view_name": "LayoutView",
            "align_content": null,
            "align_items": null,
            "align_self": null,
            "border": null,
            "bottom": null,
            "display": null,
            "flex": null,
            "flex_flow": null,
            "grid_area": null,
            "grid_auto_columns": null,
            "grid_auto_flow": null,
            "grid_auto_rows": null,
            "grid_column": null,
            "grid_gap": null,
            "grid_row": null,
            "grid_template_areas": null,
            "grid_template_columns": null,
            "grid_template_rows": null,
            "height": null,
            "justify_content": null,
            "justify_items": null,
            "left": null,
            "margin": null,
            "max_height": null,
            "max_width": null,
            "min_height": null,
            "min_width": null,
            "object_fit": null,
            "object_position": null,
            "order": null,
            "overflow": null,
            "overflow_x": null,
            "overflow_y": null,
            "padding": null,
            "right": null,
            "top": null,
            "visibility": null,
            "width": null
          }
        },
        "c077e973f21a45128a9a4a5c1e1723a7": {
          "model_module": "@jupyter-widgets/controls",
          "model_name": "DescriptionStyleModel",
          "model_module_version": "1.5.0",
          "state": {
            "_model_module": "@jupyter-widgets/controls",
            "_model_module_version": "1.5.0",
            "_model_name": "DescriptionStyleModel",
            "_view_count": null,
            "_view_module": "@jupyter-widgets/base",
            "_view_module_version": "1.2.0",
            "_view_name": "StyleView",
            "description_width": ""
          }
        },
        "fe45de0effa74a4db854b35b042be900": {
          "model_module": "@jupyter-widgets/base",
          "model_name": "LayoutModel",
          "model_module_version": "1.2.0",
          "state": {
            "_model_module": "@jupyter-widgets/base",
            "_model_module_version": "1.2.0",
            "_model_name": "LayoutModel",
            "_view_count": null,
            "_view_module": "@jupyter-widgets/base",
            "_view_module_version": "1.2.0",
            "_view_name": "LayoutView",
            "align_content": null,
            "align_items": null,
            "align_self": null,
            "border": null,
            "bottom": null,
            "display": null,
            "flex": null,
            "flex_flow": null,
            "grid_area": null,
            "grid_auto_columns": null,
            "grid_auto_flow": null,
            "grid_auto_rows": null,
            "grid_column": null,
            "grid_gap": null,
            "grid_row": null,
            "grid_template_areas": null,
            "grid_template_columns": null,
            "grid_template_rows": null,
            "height": null,
            "justify_content": null,
            "justify_items": null,
            "left": null,
            "margin": null,
            "max_height": null,
            "max_width": null,
            "min_height": null,
            "min_width": null,
            "object_fit": null,
            "object_position": null,
            "order": null,
            "overflow": null,
            "overflow_x": null,
            "overflow_y": null,
            "padding": null,
            "right": null,
            "top": null,
            "visibility": null,
            "width": null
          }
        },
        "aa7eee70259248549e9a18270ca6c440": {
          "model_module": "@jupyter-widgets/controls",
          "model_name": "ProgressStyleModel",
          "model_module_version": "1.5.0",
          "state": {
            "_model_module": "@jupyter-widgets/controls",
            "_model_module_version": "1.5.0",
            "_model_name": "ProgressStyleModel",
            "_view_count": null,
            "_view_module": "@jupyter-widgets/base",
            "_view_module_version": "1.2.0",
            "_view_name": "StyleView",
            "bar_color": null,
            "description_width": ""
          }
        },
        "50c83c99892c467aacd44c70ee6eb78c": {
          "model_module": "@jupyter-widgets/base",
          "model_name": "LayoutModel",
          "model_module_version": "1.2.0",
          "state": {
            "_model_module": "@jupyter-widgets/base",
            "_model_module_version": "1.2.0",
            "_model_name": "LayoutModel",
            "_view_count": null,
            "_view_module": "@jupyter-widgets/base",
            "_view_module_version": "1.2.0",
            "_view_name": "LayoutView",
            "align_content": null,
            "align_items": null,
            "align_self": null,
            "border": null,
            "bottom": null,
            "display": null,
            "flex": null,
            "flex_flow": null,
            "grid_area": null,
            "grid_auto_columns": null,
            "grid_auto_flow": null,
            "grid_auto_rows": null,
            "grid_column": null,
            "grid_gap": null,
            "grid_row": null,
            "grid_template_areas": null,
            "grid_template_columns": null,
            "grid_template_rows": null,
            "height": null,
            "justify_content": null,
            "justify_items": null,
            "left": null,
            "margin": null,
            "max_height": null,
            "max_width": null,
            "min_height": null,
            "min_width": null,
            "object_fit": null,
            "object_position": null,
            "order": null,
            "overflow": null,
            "overflow_x": null,
            "overflow_y": null,
            "padding": null,
            "right": null,
            "top": null,
            "visibility": null,
            "width": null
          }
        },
        "893a9996f1c74229bf959cd43b7c4076": {
          "model_module": "@jupyter-widgets/controls",
          "model_name": "DescriptionStyleModel",
          "model_module_version": "1.5.0",
          "state": {
            "_model_module": "@jupyter-widgets/controls",
            "_model_module_version": "1.5.0",
            "_model_name": "DescriptionStyleModel",
            "_view_count": null,
            "_view_module": "@jupyter-widgets/base",
            "_view_module_version": "1.2.0",
            "_view_name": "StyleView",
            "description_width": ""
          }
        },
        "bc012ebb5f0f4adeae091df035c2a488": {
          "model_module": "@jupyter-widgets/base",
          "model_name": "LayoutModel",
          "model_module_version": "1.2.0",
          "state": {
            "_model_module": "@jupyter-widgets/base",
            "_model_module_version": "1.2.0",
            "_model_name": "LayoutModel",
            "_view_count": null,
            "_view_module": "@jupyter-widgets/base",
            "_view_module_version": "1.2.0",
            "_view_name": "LayoutView",
            "align_content": null,
            "align_items": null,
            "align_self": null,
            "border": null,
            "bottom": null,
            "display": null,
            "flex": null,
            "flex_flow": null,
            "grid_area": null,
            "grid_auto_columns": null,
            "grid_auto_flow": null,
            "grid_auto_rows": null,
            "grid_column": null,
            "grid_gap": null,
            "grid_row": null,
            "grid_template_areas": null,
            "grid_template_columns": null,
            "grid_template_rows": null,
            "height": null,
            "justify_content": null,
            "justify_items": null,
            "left": null,
            "margin": null,
            "max_height": null,
            "max_width": null,
            "min_height": null,
            "min_width": null,
            "object_fit": null,
            "object_position": null,
            "order": null,
            "overflow": null,
            "overflow_x": null,
            "overflow_y": null,
            "padding": null,
            "right": null,
            "top": null,
            "visibility": null,
            "width": null
          }
        },
        "019775679f974d65860554ea45f7bbf1": {
          "model_module": "@jupyter-widgets/controls",
          "model_name": "ProgressStyleModel",
          "model_module_version": "1.5.0",
          "state": {
            "_model_module": "@jupyter-widgets/controls",
            "_model_module_version": "1.5.0",
            "_model_name": "ProgressStyleModel",
            "_view_count": null,
            "_view_module": "@jupyter-widgets/base",
            "_view_module_version": "1.2.0",
            "_view_name": "StyleView",
            "bar_color": null,
            "description_width": ""
          }
        },
        "d6b58abc05a04e4a8dc317c0210d481d": {
          "model_module": "@jupyter-widgets/base",
          "model_name": "LayoutModel",
          "model_module_version": "1.2.0",
          "state": {
            "_model_module": "@jupyter-widgets/base",
            "_model_module_version": "1.2.0",
            "_model_name": "LayoutModel",
            "_view_count": null,
            "_view_module": "@jupyter-widgets/base",
            "_view_module_version": "1.2.0",
            "_view_name": "LayoutView",
            "align_content": null,
            "align_items": null,
            "align_self": null,
            "border": null,
            "bottom": null,
            "display": null,
            "flex": null,
            "flex_flow": null,
            "grid_area": null,
            "grid_auto_columns": null,
            "grid_auto_flow": null,
            "grid_auto_rows": null,
            "grid_column": null,
            "grid_gap": null,
            "grid_row": null,
            "grid_template_areas": null,
            "grid_template_columns": null,
            "grid_template_rows": null,
            "height": null,
            "justify_content": null,
            "justify_items": null,
            "left": null,
            "margin": null,
            "max_height": null,
            "max_width": null,
            "min_height": null,
            "min_width": null,
            "object_fit": null,
            "object_position": null,
            "order": null,
            "overflow": null,
            "overflow_x": null,
            "overflow_y": null,
            "padding": null,
            "right": null,
            "top": null,
            "visibility": null,
            "width": null
          }
        },
        "89a375f5e3d94440beeecf1d4b9e9556": {
          "model_module": "@jupyter-widgets/controls",
          "model_name": "DescriptionStyleModel",
          "model_module_version": "1.5.0",
          "state": {
            "_model_module": "@jupyter-widgets/controls",
            "_model_module_version": "1.5.0",
            "_model_name": "DescriptionStyleModel",
            "_view_count": null,
            "_view_module": "@jupyter-widgets/base",
            "_view_module_version": "1.2.0",
            "_view_name": "StyleView",
            "description_width": ""
          }
        },
        "1af28d0fed73432db85491578bd16435": {
          "model_module": "@jupyter-widgets/base",
          "model_name": "LayoutModel",
          "model_module_version": "1.2.0",
          "state": {
            "_model_module": "@jupyter-widgets/base",
            "_model_module_version": "1.2.0",
            "_model_name": "LayoutModel",
            "_view_count": null,
            "_view_module": "@jupyter-widgets/base",
            "_view_module_version": "1.2.0",
            "_view_name": "LayoutView",
            "align_content": null,
            "align_items": null,
            "align_self": null,
            "border": null,
            "bottom": null,
            "display": null,
            "flex": null,
            "flex_flow": null,
            "grid_area": null,
            "grid_auto_columns": null,
            "grid_auto_flow": null,
            "grid_auto_rows": null,
            "grid_column": null,
            "grid_gap": null,
            "grid_row": null,
            "grid_template_areas": null,
            "grid_template_columns": null,
            "grid_template_rows": null,
            "height": null,
            "justify_content": null,
            "justify_items": null,
            "left": null,
            "margin": null,
            "max_height": null,
            "max_width": null,
            "min_height": null,
            "min_width": null,
            "object_fit": null,
            "object_position": null,
            "order": null,
            "overflow": null,
            "overflow_x": null,
            "overflow_y": null,
            "padding": null,
            "right": null,
            "top": null,
            "visibility": null,
            "width": null
          }
        },
        "3d75ba5d27c4461bbb53caad3d31cc68": {
          "model_module": "@jupyter-widgets/controls",
          "model_name": "DescriptionStyleModel",
          "model_module_version": "1.5.0",
          "state": {
            "_model_module": "@jupyter-widgets/controls",
            "_model_module_version": "1.5.0",
            "_model_name": "DescriptionStyleModel",
            "_view_count": null,
            "_view_module": "@jupyter-widgets/base",
            "_view_module_version": "1.2.0",
            "_view_name": "StyleView",
            "description_width": ""
          }
        },
        "13bb2d9d2fcd4a7a89eb0cb4d208e3b0": {
          "model_module": "@jupyter-widgets/controls",
          "model_name": "HTMLModel",
          "model_module_version": "1.5.0",
          "state": {
            "_dom_classes": [],
            "_model_module": "@jupyter-widgets/controls",
            "_model_module_version": "1.5.0",
            "_model_name": "HTMLModel",
            "_view_count": null,
            "_view_module": "@jupyter-widgets/controls",
            "_view_module_version": "1.5.0",
            "_view_name": "HTMLView",
            "description": "",
            "description_tooltip": null,
            "layout": "IPY_MODEL_d6b58abc05a04e4a8dc317c0210d481d",
            "placeholder": "​",
            "style": "IPY_MODEL_89a375f5e3d94440beeecf1d4b9e9556",
            "value": "sentencepiece.bpe.model: 100%"
          }
        },
        "b06f0270e097466aac4094d044314ce8": {
          "model_module": "@jupyter-widgets/controls",
          "model_name": "FloatProgressModel",
          "model_module_version": "1.5.0",
          "state": {
            "_dom_classes": [],
            "_model_module": "@jupyter-widgets/controls",
            "_model_module_version": "1.5.0",
            "_model_name": "FloatProgressModel",
            "_view_count": null,
            "_view_module": "@jupyter-widgets/controls",
            "_view_module_version": "1.5.0",
            "_view_name": "ProgressView",
            "bar_style": "success",
            "description": "",
            "description_tooltip": null,
            "layout": "IPY_MODEL_bc012ebb5f0f4adeae091df035c2a488",
            "max": 4852054,
            "min": 0,
            "orientation": "horizontal",
            "style": "IPY_MODEL_019775679f974d65860554ea45f7bbf1",
            "value": 4852054
          }
        },
        "dd356e3308834794a87695a5cb63a5d0": {
          "model_module": "@jupyter-widgets/controls",
          "model_name": "HTMLModel",
          "model_module_version": "1.5.0",
          "state": {
            "_dom_classes": [],
            "_model_module": "@jupyter-widgets/controls",
            "_model_module_version": "1.5.0",
            "_model_name": "HTMLModel",
            "_view_count": null,
            "_view_module": "@jupyter-widgets/controls",
            "_view_module_version": "1.5.0",
            "_view_name": "HTMLView",
            "description": "",
            "description_tooltip": null,
            "layout": "IPY_MODEL_1af28d0fed73432db85491578bd16435",
            "placeholder": "​",
            "style": "IPY_MODEL_3d75ba5d27c4461bbb53caad3d31cc68",
            "value": " 4.85M/4.85M [00:01&lt;00:00, 3.80MB/s]"
          }
        },
        "08740ff961b544a6bd29c7533ee15888": {
          "model_module": "@jupyter-widgets/base",
          "model_name": "LayoutModel",
          "model_module_version": "1.2.0",
          "state": {
            "_model_module": "@jupyter-widgets/base",
            "_model_module_version": "1.2.0",
            "_model_name": "LayoutModel",
            "_view_count": null,
            "_view_module": "@jupyter-widgets/base",
            "_view_module_version": "1.2.0",
            "_view_name": "LayoutView",
            "align_content": null,
            "align_items": null,
            "align_self": null,
            "border": null,
            "bottom": null,
            "display": null,
            "flex": null,
            "flex_flow": null,
            "grid_area": null,
            "grid_auto_columns": null,
            "grid_auto_flow": null,
            "grid_auto_rows": null,
            "grid_column": null,
            "grid_gap": null,
            "grid_row": null,
            "grid_template_areas": null,
            "grid_template_columns": null,
            "grid_template_rows": null,
            "height": null,
            "justify_content": null,
            "justify_items": null,
            "left": null,
            "margin": null,
            "max_height": null,
            "max_width": null,
            "min_height": null,
            "min_width": null,
            "object_fit": null,
            "object_position": null,
            "order": null,
            "overflow": null,
            "overflow_x": null,
            "overflow_y": null,
            "padding": null,
            "right": null,
            "top": null,
            "visibility": null,
            "width": null
          }
        },
        "bb3a13ae30694647942cf15242de6e24": {
          "model_module": "@jupyter-widgets/controls",
          "model_name": "HBoxModel",
          "model_module_version": "1.5.0",
          "state": {
            "_dom_classes": [],
            "_model_module": "@jupyter-widgets/controls",
            "_model_module_version": "1.5.0",
            "_model_name": "HBoxModel",
            "_view_count": null,
            "_view_module": "@jupyter-widgets/controls",
            "_view_module_version": "1.5.0",
            "_view_name": "HBoxView",
            "box_style": "",
            "children": [
              "IPY_MODEL_13bb2d9d2fcd4a7a89eb0cb4d208e3b0",
              "IPY_MODEL_b06f0270e097466aac4094d044314ce8",
              "IPY_MODEL_dd356e3308834794a87695a5cb63a5d0"
            ],
            "layout": "IPY_MODEL_08740ff961b544a6bd29c7533ee15888"
          }
        },
        "2a766fd37e59464c9f6111ea730ea607": {
          "model_module": "@jupyter-widgets/base",
          "model_name": "LayoutModel",
          "model_module_version": "1.2.0",
          "state": {
            "_model_module": "@jupyter-widgets/base",
            "_model_module_version": "1.2.0",
            "_model_name": "LayoutModel",
            "_view_count": null,
            "_view_module": "@jupyter-widgets/base",
            "_view_module_version": "1.2.0",
            "_view_name": "LayoutView",
            "align_content": null,
            "align_items": null,
            "align_self": null,
            "border": null,
            "bottom": null,
            "display": null,
            "flex": null,
            "flex_flow": null,
            "grid_area": null,
            "grid_auto_columns": null,
            "grid_auto_flow": null,
            "grid_auto_rows": null,
            "grid_column": null,
            "grid_gap": null,
            "grid_row": null,
            "grid_template_areas": null,
            "grid_template_columns": null,
            "grid_template_rows": null,
            "height": null,
            "justify_content": null,
            "justify_items": null,
            "left": null,
            "margin": null,
            "max_height": null,
            "max_width": null,
            "min_height": null,
            "min_width": null,
            "object_fit": null,
            "object_position": null,
            "order": null,
            "overflow": null,
            "overflow_x": null,
            "overflow_y": null,
            "padding": null,
            "right": null,
            "top": null,
            "visibility": null,
            "width": null
          }
        },
        "b8636d7c95c0464080920f2cbbaa3937": {
          "model_module": "@jupyter-widgets/controls",
          "model_name": "ProgressStyleModel",
          "model_module_version": "1.5.0",
          "state": {
            "_model_module": "@jupyter-widgets/controls",
            "_model_module_version": "1.5.0",
            "_model_name": "ProgressStyleModel",
            "_view_count": null,
            "_view_module": "@jupyter-widgets/base",
            "_view_module_version": "1.2.0",
            "_view_name": "StyleView",
            "bar_color": null,
            "description_width": ""
          }
        },
        "89797cefe58c417bae2791906c7ab966": {
          "model_module": "@jupyter-widgets/base",
          "model_name": "LayoutModel",
          "model_module_version": "1.2.0",
          "state": {
            "_model_module": "@jupyter-widgets/base",
            "_model_module_version": "1.2.0",
            "_model_name": "LayoutModel",
            "_view_count": null,
            "_view_module": "@jupyter-widgets/base",
            "_view_module_version": "1.2.0",
            "_view_name": "LayoutView",
            "align_content": null,
            "align_items": null,
            "align_self": null,
            "border": null,
            "bottom": null,
            "display": null,
            "flex": null,
            "flex_flow": null,
            "grid_area": null,
            "grid_auto_columns": null,
            "grid_auto_flow": null,
            "grid_auto_rows": null,
            "grid_column": null,
            "grid_gap": null,
            "grid_row": null,
            "grid_template_areas": null,
            "grid_template_columns": null,
            "grid_template_rows": null,
            "height": null,
            "justify_content": null,
            "justify_items": null,
            "left": null,
            "margin": null,
            "max_height": null,
            "max_width": null,
            "min_height": null,
            "min_width": null,
            "object_fit": null,
            "object_position": null,
            "order": null,
            "overflow": null,
            "overflow_x": null,
            "overflow_y": null,
            "padding": null,
            "right": null,
            "top": null,
            "visibility": null,
            "width": null
          }
        },
        "6feca096a0c942e587016cb2ed9149f9": {
          "model_module": "@jupyter-widgets/controls",
          "model_name": "DescriptionStyleModel",
          "model_module_version": "1.5.0",
          "state": {
            "_model_module": "@jupyter-widgets/controls",
            "_model_module_version": "1.5.0",
            "_model_name": "DescriptionStyleModel",
            "_view_count": null,
            "_view_module": "@jupyter-widgets/base",
            "_view_module_version": "1.2.0",
            "_view_name": "StyleView",
            "description_width": ""
          }
        },
        "abf61e46701b453bb5f1a1827ed741ae": {
          "model_module": "@jupyter-widgets/base",
          "model_name": "LayoutModel",
          "model_module_version": "1.2.0",
          "state": {
            "_model_module": "@jupyter-widgets/base",
            "_model_module_version": "1.2.0",
            "_model_name": "LayoutModel",
            "_view_count": null,
            "_view_module": "@jupyter-widgets/base",
            "_view_module_version": "1.2.0",
            "_view_name": "LayoutView",
            "align_content": null,
            "align_items": null,
            "align_self": null,
            "border": null,
            "bottom": null,
            "display": null,
            "flex": null,
            "flex_flow": null,
            "grid_area": null,
            "grid_auto_columns": null,
            "grid_auto_flow": null,
            "grid_auto_rows": null,
            "grid_column": null,
            "grid_gap": null,
            "grid_row": null,
            "grid_template_areas": null,
            "grid_template_columns": null,
            "grid_template_rows": null,
            "height": null,
            "justify_content": null,
            "justify_items": null,
            "left": null,
            "margin": null,
            "max_height": null,
            "max_width": null,
            "min_height": null,
            "min_width": null,
            "object_fit": null,
            "object_position": null,
            "order": null,
            "overflow": null,
            "overflow_x": null,
            "overflow_y": null,
            "padding": null,
            "right": null,
            "top": null,
            "visibility": null,
            "width": null
          }
        },
        "4f003f4f77e544a8940dd7d784d3eabb": {
          "model_module": "@jupyter-widgets/controls",
          "model_name": "DescriptionStyleModel",
          "model_module_version": "1.5.0",
          "state": {
            "_model_module": "@jupyter-widgets/controls",
            "_model_module_version": "1.5.0",
            "_model_name": "DescriptionStyleModel",
            "_view_count": null,
            "_view_module": "@jupyter-widgets/base",
            "_view_module_version": "1.2.0",
            "_view_name": "StyleView",
            "description_width": ""
          }
        },
        "d02da43037e24790b309ec703f899c50": {
          "model_module": "@jupyter-widgets/controls",
          "model_name": "HTMLModel",
          "model_module_version": "1.5.0",
          "state": {
            "_dom_classes": [],
            "_model_module": "@jupyter-widgets/controls",
            "_model_module_version": "1.5.0",
            "_model_name": "HTMLModel",
            "_view_count": null,
            "_view_module": "@jupyter-widgets/controls",
            "_view_module_version": "1.5.0",
            "_view_name": "HTMLView",
            "description": "",
            "description_tooltip": null,
            "layout": "IPY_MODEL_89797cefe58c417bae2791906c7ab966",
            "placeholder": "​",
            "style": "IPY_MODEL_6feca096a0c942e587016cb2ed9149f9",
            "value": "tokenizer.json: 100%"
          }
        },
        "cb88a16772d147fd9da691f553056a86": {
          "model_module": "@jupyter-widgets/controls",
          "model_name": "FloatProgressModel",
          "model_module_version": "1.5.0",
          "state": {
            "_dom_classes": [],
            "_model_module": "@jupyter-widgets/controls",
            "_model_module_version": "1.5.0",
            "_model_name": "FloatProgressModel",
            "_view_count": null,
            "_view_module": "@jupyter-widgets/controls",
            "_view_module_version": "1.5.0",
            "_view_name": "ProgressView",
            "bar_style": "success",
            "description": "",
            "description_tooltip": null,
            "layout": "IPY_MODEL_2a766fd37e59464c9f6111ea730ea607",
            "max": 17331176,
            "min": 0,
            "orientation": "horizontal",
            "style": "IPY_MODEL_b8636d7c95c0464080920f2cbbaa3937",
            "value": 17331176
          }
        },
        "2cf5fadd71f44e699fe7fbe83a7ff14c": {
          "model_module": "@jupyter-widgets/controls",
          "model_name": "HTMLModel",
          "model_module_version": "1.5.0",
          "state": {
            "_dom_classes": [],
            "_model_module": "@jupyter-widgets/controls",
            "_model_module_version": "1.5.0",
            "_model_name": "HTMLModel",
            "_view_count": null,
            "_view_module": "@jupyter-widgets/controls",
            "_view_module_version": "1.5.0",
            "_view_name": "HTMLView",
            "description": "",
            "description_tooltip": null,
            "layout": "IPY_MODEL_abf61e46701b453bb5f1a1827ed741ae",
            "placeholder": "​",
            "style": "IPY_MODEL_4f003f4f77e544a8940dd7d784d3eabb",
            "value": " 17.3M/17.3M [00:01&lt;00:00, 13.8MB/s]"
          }
        },
        "d6dac35eefcf4745b09b344f321d08d6": {
          "model_module": "@jupyter-widgets/base",
          "model_name": "LayoutModel",
          "model_module_version": "1.2.0",
          "state": {
            "_model_module": "@jupyter-widgets/base",
            "_model_module_version": "1.2.0",
            "_model_name": "LayoutModel",
            "_view_count": null,
            "_view_module": "@jupyter-widgets/base",
            "_view_module_version": "1.2.0",
            "_view_name": "LayoutView",
            "align_content": null,
            "align_items": null,
            "align_self": null,
            "border": null,
            "bottom": null,
            "display": null,
            "flex": null,
            "flex_flow": null,
            "grid_area": null,
            "grid_auto_columns": null,
            "grid_auto_flow": null,
            "grid_auto_rows": null,
            "grid_column": null,
            "grid_gap": null,
            "grid_row": null,
            "grid_template_areas": null,
            "grid_template_columns": null,
            "grid_template_rows": null,
            "height": null,
            "justify_content": null,
            "justify_items": null,
            "left": null,
            "margin": null,
            "max_height": null,
            "max_width": null,
            "min_height": null,
            "min_width": null,
            "object_fit": null,
            "object_position": null,
            "order": null,
            "overflow": null,
            "overflow_x": null,
            "overflow_y": null,
            "padding": null,
            "right": null,
            "top": null,
            "visibility": null,
            "width": null
          }
        },
        "78b8b16f536544acba12f180b46d2bcf": {
          "model_module": "@jupyter-widgets/controls",
          "model_name": "HBoxModel",
          "model_module_version": "1.5.0",
          "state": {
            "_dom_classes": [],
            "_model_module": "@jupyter-widgets/controls",
            "_model_module_version": "1.5.0",
            "_model_name": "HBoxModel",
            "_view_count": null,
            "_view_module": "@jupyter-widgets/controls",
            "_view_module_version": "1.5.0",
            "_view_name": "HBoxView",
            "box_style": "",
            "children": [
              "IPY_MODEL_d02da43037e24790b309ec703f899c50",
              "IPY_MODEL_cb88a16772d147fd9da691f553056a86",
              "IPY_MODEL_2cf5fadd71f44e699fe7fbe83a7ff14c"
            ],
            "layout": "IPY_MODEL_d6dac35eefcf4745b09b344f321d08d6"
          }
        },
        "8ff106f4c8144b429d1bcd756921217b": {
          "model_module": "@jupyter-widgets/base",
          "model_name": "LayoutModel",
          "model_module_version": "1.2.0",
          "state": {
            "_model_module": "@jupyter-widgets/base",
            "_model_module_version": "1.2.0",
            "_model_name": "LayoutModel",
            "_view_count": null,
            "_view_module": "@jupyter-widgets/base",
            "_view_module_version": "1.2.0",
            "_view_name": "LayoutView",
            "align_content": null,
            "align_items": null,
            "align_self": null,
            "border": null,
            "bottom": null,
            "display": null,
            "flex": null,
            "flex_flow": null,
            "grid_area": null,
            "grid_auto_columns": null,
            "grid_auto_flow": null,
            "grid_auto_rows": null,
            "grid_column": null,
            "grid_gap": null,
            "grid_row": null,
            "grid_template_areas": null,
            "grid_template_columns": null,
            "grid_template_rows": null,
            "height": null,
            "justify_content": null,
            "justify_items": null,
            "left": null,
            "margin": null,
            "max_height": null,
            "max_width": null,
            "min_height": null,
            "min_width": null,
            "object_fit": null,
            "object_position": null,
            "order": null,
            "overflow": null,
            "overflow_x": null,
            "overflow_y": null,
            "padding": null,
            "right": null,
            "top": null,
            "visibility": null,
            "width": null
          }
        },
        "a278098f8a3e48aa98e9886224b8f0f6": {
          "model_module": "@jupyter-widgets/controls",
          "model_name": "ProgressStyleModel",
          "model_module_version": "1.5.0",
          "state": {
            "_model_module": "@jupyter-widgets/controls",
            "_model_module_version": "1.5.0",
            "_model_name": "ProgressStyleModel",
            "_view_count": null,
            "_view_module": "@jupyter-widgets/base",
            "_view_module_version": "1.2.0",
            "_view_name": "StyleView",
            "bar_color": null,
            "description_width": ""
          }
        },
        "d01193319dac4c3caa16cf69ee420906": {
          "model_module": "@jupyter-widgets/base",
          "model_name": "LayoutModel",
          "model_module_version": "1.2.0",
          "state": {
            "_model_module": "@jupyter-widgets/base",
            "_model_module_version": "1.2.0",
            "_model_name": "LayoutModel",
            "_view_count": null,
            "_view_module": "@jupyter-widgets/base",
            "_view_module_version": "1.2.0",
            "_view_name": "LayoutView",
            "align_content": null,
            "align_items": null,
            "align_self": null,
            "border": null,
            "bottom": null,
            "display": null,
            "flex": null,
            "flex_flow": null,
            "grid_area": null,
            "grid_auto_columns": null,
            "grid_auto_flow": null,
            "grid_auto_rows": null,
            "grid_column": null,
            "grid_gap": null,
            "grid_row": null,
            "grid_template_areas": null,
            "grid_template_columns": null,
            "grid_template_rows": null,
            "height": null,
            "justify_content": null,
            "justify_items": null,
            "left": null,
            "margin": null,
            "max_height": null,
            "max_width": null,
            "min_height": null,
            "min_width": null,
            "object_fit": null,
            "object_position": null,
            "order": null,
            "overflow": null,
            "overflow_x": null,
            "overflow_y": null,
            "padding": null,
            "right": null,
            "top": null,
            "visibility": null,
            "width": null
          }
        },
        "d0be810e6a7f4351923a33768436d2de": {
          "model_module": "@jupyter-widgets/controls",
          "model_name": "DescriptionStyleModel",
          "model_module_version": "1.5.0",
          "state": {
            "_model_module": "@jupyter-widgets/controls",
            "_model_module_version": "1.5.0",
            "_model_name": "DescriptionStyleModel",
            "_view_count": null,
            "_view_module": "@jupyter-widgets/base",
            "_view_module_version": "1.2.0",
            "_view_name": "StyleView",
            "description_width": ""
          }
        },
        "7c18f91db9dd45c0b3aec70bcaf6821c": {
          "model_module": "@jupyter-widgets/base",
          "model_name": "LayoutModel",
          "model_module_version": "1.2.0",
          "state": {
            "_model_module": "@jupyter-widgets/base",
            "_model_module_version": "1.2.0",
            "_model_name": "LayoutModel",
            "_view_count": null,
            "_view_module": "@jupyter-widgets/base",
            "_view_module_version": "1.2.0",
            "_view_name": "LayoutView",
            "align_content": null,
            "align_items": null,
            "align_self": null,
            "border": null,
            "bottom": null,
            "display": null,
            "flex": null,
            "flex_flow": null,
            "grid_area": null,
            "grid_auto_columns": null,
            "grid_auto_flow": null,
            "grid_auto_rows": null,
            "grid_column": null,
            "grid_gap": null,
            "grid_row": null,
            "grid_template_areas": null,
            "grid_template_columns": null,
            "grid_template_rows": null,
            "height": null,
            "justify_content": null,
            "justify_items": null,
            "left": null,
            "margin": null,
            "max_height": null,
            "max_width": null,
            "min_height": null,
            "min_width": null,
            "object_fit": null,
            "object_position": null,
            "order": null,
            "overflow": null,
            "overflow_x": null,
            "overflow_y": null,
            "padding": null,
            "right": null,
            "top": null,
            "visibility": null,
            "width": null
          }
        },
        "4ae6bf5cb21b46cbaefb12773197ef4c": {
          "model_module": "@jupyter-widgets/controls",
          "model_name": "DescriptionStyleModel",
          "model_module_version": "1.5.0",
          "state": {
            "_model_module": "@jupyter-widgets/controls",
            "_model_module_version": "1.5.0",
            "_model_name": "DescriptionStyleModel",
            "_view_count": null,
            "_view_module": "@jupyter-widgets/base",
            "_view_module_version": "1.2.0",
            "_view_name": "StyleView",
            "description_width": ""
          }
        },
        "ec77e64239f14fa2a1b8baf56c7019ea": {
          "model_module": "@jupyter-widgets/controls",
          "model_name": "HTMLModel",
          "model_module_version": "1.5.0",
          "state": {
            "_dom_classes": [],
            "_model_module": "@jupyter-widgets/controls",
            "_model_module_version": "1.5.0",
            "_model_name": "HTMLModel",
            "_view_count": null,
            "_view_module": "@jupyter-widgets/controls",
            "_view_module_version": "1.5.0",
            "_view_name": "HTMLView",
            "description": "",
            "description_tooltip": null,
            "layout": "IPY_MODEL_d01193319dac4c3caa16cf69ee420906",
            "placeholder": "​",
            "style": "IPY_MODEL_d0be810e6a7f4351923a33768436d2de",
            "value": "special_tokens_map.json: 100%"
          }
        },
        "c5e3d061499e462da7f030d739e25a53": {
          "model_module": "@jupyter-widgets/controls",
          "model_name": "FloatProgressModel",
          "model_module_version": "1.5.0",
          "state": {
            "_dom_classes": [],
            "_model_module": "@jupyter-widgets/controls",
            "_model_module_version": "1.5.0",
            "_model_name": "FloatProgressModel",
            "_view_count": null,
            "_view_module": "@jupyter-widgets/controls",
            "_view_module_version": "1.5.0",
            "_view_name": "ProgressView",
            "bar_style": "success",
            "description": "",
            "description_tooltip": null,
            "layout": "IPY_MODEL_8ff106f4c8144b429d1bcd756921217b",
            "max": 3548,
            "min": 0,
            "orientation": "horizontal",
            "style": "IPY_MODEL_a278098f8a3e48aa98e9886224b8f0f6",
            "value": 3548
          }
        },
        "b4851814dbb34b7f86aa827ec44d3571": {
          "model_module": "@jupyter-widgets/controls",
          "model_name": "HTMLModel",
          "model_module_version": "1.5.0",
          "state": {
            "_dom_classes": [],
            "_model_module": "@jupyter-widgets/controls",
            "_model_module_version": "1.5.0",
            "_model_name": "HTMLModel",
            "_view_count": null,
            "_view_module": "@jupyter-widgets/controls",
            "_view_module_version": "1.5.0",
            "_view_name": "HTMLView",
            "description": "",
            "description_tooltip": null,
            "layout": "IPY_MODEL_7c18f91db9dd45c0b3aec70bcaf6821c",
            "placeholder": "​",
            "style": "IPY_MODEL_4ae6bf5cb21b46cbaefb12773197ef4c",
            "value": " 3.55k/3.55k [00:00&lt;00:00, 379kB/s]"
          }
        },
        "509eb706d9054bf8aafe3ba897b1b359": {
          "model_module": "@jupyter-widgets/base",
          "model_name": "LayoutModel",
          "model_module_version": "1.2.0",
          "state": {
            "_model_module": "@jupyter-widgets/base",
            "_model_module_version": "1.2.0",
            "_model_name": "LayoutModel",
            "_view_count": null,
            "_view_module": "@jupyter-widgets/base",
            "_view_module_version": "1.2.0",
            "_view_name": "LayoutView",
            "align_content": null,
            "align_items": null,
            "align_self": null,
            "border": null,
            "bottom": null,
            "display": null,
            "flex": null,
            "flex_flow": null,
            "grid_area": null,
            "grid_auto_columns": null,
            "grid_auto_flow": null,
            "grid_auto_rows": null,
            "grid_column": null,
            "grid_gap": null,
            "grid_row": null,
            "grid_template_areas": null,
            "grid_template_columns": null,
            "grid_template_rows": null,
            "height": null,
            "justify_content": null,
            "justify_items": null,
            "left": null,
            "margin": null,
            "max_height": null,
            "max_width": null,
            "min_height": null,
            "min_width": null,
            "object_fit": null,
            "object_position": null,
            "order": null,
            "overflow": null,
            "overflow_x": null,
            "overflow_y": null,
            "padding": null,
            "right": null,
            "top": null,
            "visibility": null,
            "width": null
          }
        },
        "4b7d14d5d96145a28a2cde97e1585ce2": {
          "model_module": "@jupyter-widgets/controls",
          "model_name": "HBoxModel",
          "model_module_version": "1.5.0",
          "state": {
            "_dom_classes": [],
            "_model_module": "@jupyter-widgets/controls",
            "_model_module_version": "1.5.0",
            "_model_name": "HBoxModel",
            "_view_count": null,
            "_view_module": "@jupyter-widgets/controls",
            "_view_module_version": "1.5.0",
            "_view_name": "HBoxView",
            "box_style": "",
            "children": [
              "IPY_MODEL_ec77e64239f14fa2a1b8baf56c7019ea",
              "IPY_MODEL_c5e3d061499e462da7f030d739e25a53",
              "IPY_MODEL_b4851814dbb34b7f86aa827ec44d3571"
            ],
            "layout": "IPY_MODEL_509eb706d9054bf8aafe3ba897b1b359"
          }
        },
        "19a1e4d3344d4a1cb83d49b9eae08c52": {
          "model_module": "@jupyter-widgets/base",
          "model_name": "LayoutModel",
          "model_module_version": "1.2.0",
          "state": {
            "_model_module": "@jupyter-widgets/base",
            "_model_module_version": "1.2.0",
            "_model_name": "LayoutModel",
            "_view_count": null,
            "_view_module": "@jupyter-widgets/base",
            "_view_module_version": "1.2.0",
            "_view_name": "LayoutView",
            "align_content": null,
            "align_items": null,
            "align_self": null,
            "border": null,
            "bottom": null,
            "display": null,
            "flex": null,
            "flex_flow": null,
            "grid_area": null,
            "grid_auto_columns": null,
            "grid_auto_flow": null,
            "grid_auto_rows": null,
            "grid_column": null,
            "grid_gap": null,
            "grid_row": null,
            "grid_template_areas": null,
            "grid_template_columns": null,
            "grid_template_rows": null,
            "height": null,
            "justify_content": null,
            "justify_items": null,
            "left": null,
            "margin": null,
            "max_height": null,
            "max_width": null,
            "min_height": null,
            "min_width": null,
            "object_fit": null,
            "object_position": null,
            "order": null,
            "overflow": null,
            "overflow_x": null,
            "overflow_y": null,
            "padding": null,
            "right": null,
            "top": null,
            "visibility": null,
            "width": null
          }
        },
        "1f3cf3660c0345d48691147f0d7b84ac": {
          "model_module": "@jupyter-widgets/controls",
          "model_name": "ProgressStyleModel",
          "model_module_version": "1.5.0",
          "state": {
            "_model_module": "@jupyter-widgets/controls",
            "_model_module_version": "1.5.0",
            "_model_name": "ProgressStyleModel",
            "_view_count": null,
            "_view_module": "@jupyter-widgets/base",
            "_view_module_version": "1.2.0",
            "_view_name": "StyleView",
            "bar_color": null,
            "description_width": ""
          }
        },
        "a72138a2e30246b8a7238b9f517aec5d": {
          "model_module": "@jupyter-widgets/base",
          "model_name": "LayoutModel",
          "model_module_version": "1.2.0",
          "state": {
            "_model_module": "@jupyter-widgets/base",
            "_model_module_version": "1.2.0",
            "_model_name": "LayoutModel",
            "_view_count": null,
            "_view_module": "@jupyter-widgets/base",
            "_view_module_version": "1.2.0",
            "_view_name": "LayoutView",
            "align_content": null,
            "align_items": null,
            "align_self": null,
            "border": null,
            "bottom": null,
            "display": null,
            "flex": null,
            "flex_flow": null,
            "grid_area": null,
            "grid_auto_columns": null,
            "grid_auto_flow": null,
            "grid_auto_rows": null,
            "grid_column": null,
            "grid_gap": null,
            "grid_row": null,
            "grid_template_areas": null,
            "grid_template_columns": null,
            "grid_template_rows": null,
            "height": null,
            "justify_content": null,
            "justify_items": null,
            "left": null,
            "margin": null,
            "max_height": null,
            "max_width": null,
            "min_height": null,
            "min_width": null,
            "object_fit": null,
            "object_position": null,
            "order": null,
            "overflow": null,
            "overflow_x": null,
            "overflow_y": null,
            "padding": null,
            "right": null,
            "top": null,
            "visibility": null,
            "width": null
          }
        },
        "d814f14d504741078754e73b27e78ead": {
          "model_module": "@jupyter-widgets/controls",
          "model_name": "DescriptionStyleModel",
          "model_module_version": "1.5.0",
          "state": {
            "_model_module": "@jupyter-widgets/controls",
            "_model_module_version": "1.5.0",
            "_model_name": "DescriptionStyleModel",
            "_view_count": null,
            "_view_module": "@jupyter-widgets/base",
            "_view_module_version": "1.2.0",
            "_view_name": "StyleView",
            "description_width": ""
          }
        },
        "ff99b97a8157435197d84380205c16a0": {
          "model_module": "@jupyter-widgets/base",
          "model_name": "LayoutModel",
          "model_module_version": "1.2.0",
          "state": {
            "_model_module": "@jupyter-widgets/base",
            "_model_module_version": "1.2.0",
            "_model_name": "LayoutModel",
            "_view_count": null,
            "_view_module": "@jupyter-widgets/base",
            "_view_module_version": "1.2.0",
            "_view_name": "LayoutView",
            "align_content": null,
            "align_items": null,
            "align_self": null,
            "border": null,
            "bottom": null,
            "display": null,
            "flex": null,
            "flex_flow": null,
            "grid_area": null,
            "grid_auto_columns": null,
            "grid_auto_flow": null,
            "grid_auto_rows": null,
            "grid_column": null,
            "grid_gap": null,
            "grid_row": null,
            "grid_template_areas": null,
            "grid_template_columns": null,
            "grid_template_rows": null,
            "height": null,
            "justify_content": null,
            "justify_items": null,
            "left": null,
            "margin": null,
            "max_height": null,
            "max_width": null,
            "min_height": null,
            "min_width": null,
            "object_fit": null,
            "object_position": null,
            "order": null,
            "overflow": null,
            "overflow_x": null,
            "overflow_y": null,
            "padding": null,
            "right": null,
            "top": null,
            "visibility": null,
            "width": null
          }
        },
        "3df5d06da92a44e890df701c5437ed37": {
          "model_module": "@jupyter-widgets/controls",
          "model_name": "DescriptionStyleModel",
          "model_module_version": "1.5.0",
          "state": {
            "_model_module": "@jupyter-widgets/controls",
            "_model_module_version": "1.5.0",
            "_model_name": "DescriptionStyleModel",
            "_view_count": null,
            "_view_module": "@jupyter-widgets/base",
            "_view_module_version": "1.2.0",
            "_view_name": "StyleView",
            "description_width": ""
          }
        },
        "10457bd170094e70b485168039cbf619": {
          "model_module": "@jupyter-widgets/controls",
          "model_name": "HTMLModel",
          "model_module_version": "1.5.0",
          "state": {
            "_dom_classes": [],
            "_model_module": "@jupyter-widgets/controls",
            "_model_module_version": "1.5.0",
            "_model_name": "HTMLModel",
            "_view_count": null,
            "_view_module": "@jupyter-widgets/controls",
            "_view_module_version": "1.5.0",
            "_view_name": "HTMLView",
            "description": "",
            "description_tooltip": null,
            "layout": "IPY_MODEL_a72138a2e30246b8a7238b9f517aec5d",
            "placeholder": "​",
            "style": "IPY_MODEL_d814f14d504741078754e73b27e78ead",
            "value": "config.json: 100%"
          }
        },
        "da2d1880aa694047a86c17c986f95bb3": {
          "model_module": "@jupyter-widgets/controls",
          "model_name": "FloatProgressModel",
          "model_module_version": "1.5.0",
          "state": {
            "_dom_classes": [],
            "_model_module": "@jupyter-widgets/controls",
            "_model_module_version": "1.5.0",
            "_model_name": "FloatProgressModel",
            "_view_count": null,
            "_view_module": "@jupyter-widgets/controls",
            "_view_module_version": "1.5.0",
            "_view_name": "ProgressView",
            "bar_style": "success",
            "description": "",
            "description_tooltip": null,
            "layout": "IPY_MODEL_19a1e4d3344d4a1cb83d49b9eae08c52",
            "max": 846,
            "min": 0,
            "orientation": "horizontal",
            "style": "IPY_MODEL_1f3cf3660c0345d48691147f0d7b84ac",
            "value": 846
          }
        },
        "b1caad0c864446a2a3eeeb5e4c8d9b29": {
          "model_module": "@jupyter-widgets/controls",
          "model_name": "HTMLModel",
          "model_module_version": "1.5.0",
          "state": {
            "_dom_classes": [],
            "_model_module": "@jupyter-widgets/controls",
            "_model_module_version": "1.5.0",
            "_model_name": "HTMLModel",
            "_view_count": null,
            "_view_module": "@jupyter-widgets/controls",
            "_view_module_version": "1.5.0",
            "_view_name": "HTMLView",
            "description": "",
            "description_tooltip": null,
            "layout": "IPY_MODEL_ff99b97a8157435197d84380205c16a0",
            "placeholder": "​",
            "style": "IPY_MODEL_3df5d06da92a44e890df701c5437ed37",
            "value": " 846/846 [00:00&lt;00:00, 91.5kB/s]"
          }
        },
        "81bda435149845cb9d3ae196c154ef26": {
          "model_module": "@jupyter-widgets/base",
          "model_name": "LayoutModel",
          "model_module_version": "1.2.0",
          "state": {
            "_model_module": "@jupyter-widgets/base",
            "_model_module_version": "1.2.0",
            "_model_name": "LayoutModel",
            "_view_count": null,
            "_view_module": "@jupyter-widgets/base",
            "_view_module_version": "1.2.0",
            "_view_name": "LayoutView",
            "align_content": null,
            "align_items": null,
            "align_self": null,
            "border": null,
            "bottom": null,
            "display": null,
            "flex": null,
            "flex_flow": null,
            "grid_area": null,
            "grid_auto_columns": null,
            "grid_auto_flow": null,
            "grid_auto_rows": null,
            "grid_column": null,
            "grid_gap": null,
            "grid_row": null,
            "grid_template_areas": null,
            "grid_template_columns": null,
            "grid_template_rows": null,
            "height": null,
            "justify_content": null,
            "justify_items": null,
            "left": null,
            "margin": null,
            "max_height": null,
            "max_width": null,
            "min_height": null,
            "min_width": null,
            "object_fit": null,
            "object_position": null,
            "order": null,
            "overflow": null,
            "overflow_x": null,
            "overflow_y": null,
            "padding": null,
            "right": null,
            "top": null,
            "visibility": null,
            "width": null
          }
        },
        "3e9f05c089b64299b175fe7fe8c553f6": {
          "model_module": "@jupyter-widgets/controls",
          "model_name": "HBoxModel",
          "model_module_version": "1.5.0",
          "state": {
            "_dom_classes": [],
            "_model_module": "@jupyter-widgets/controls",
            "_model_module_version": "1.5.0",
            "_model_name": "HBoxModel",
            "_view_count": null,
            "_view_module": "@jupyter-widgets/controls",
            "_view_module_version": "1.5.0",
            "_view_name": "HBoxView",
            "box_style": "",
            "children": [
              "IPY_MODEL_10457bd170094e70b485168039cbf619",
              "IPY_MODEL_da2d1880aa694047a86c17c986f95bb3",
              "IPY_MODEL_b1caad0c864446a2a3eeeb5e4c8d9b29"
            ],
            "layout": "IPY_MODEL_81bda435149845cb9d3ae196c154ef26"
          }
        },
        "8c43b9bdb624486bb3cf56443baae445": {
          "model_module": "@jupyter-widgets/base",
          "model_name": "LayoutModel",
          "model_module_version": "1.2.0",
          "state": {
            "_model_module": "@jupyter-widgets/base",
            "_model_module_version": "1.2.0",
            "_model_name": "LayoutModel",
            "_view_count": null,
            "_view_module": "@jupyter-widgets/base",
            "_view_module_version": "1.2.0",
            "_view_name": "LayoutView",
            "align_content": null,
            "align_items": null,
            "align_self": null,
            "border": null,
            "bottom": null,
            "display": null,
            "flex": null,
            "flex_flow": null,
            "grid_area": null,
            "grid_auto_columns": null,
            "grid_auto_flow": null,
            "grid_auto_rows": null,
            "grid_column": null,
            "grid_gap": null,
            "grid_row": null,
            "grid_template_areas": null,
            "grid_template_columns": null,
            "grid_template_rows": null,
            "height": null,
            "justify_content": null,
            "justify_items": null,
            "left": null,
            "margin": null,
            "max_height": null,
            "max_width": null,
            "min_height": null,
            "min_width": null,
            "object_fit": null,
            "object_position": null,
            "order": null,
            "overflow": null,
            "overflow_x": null,
            "overflow_y": null,
            "padding": null,
            "right": null,
            "top": null,
            "visibility": null,
            "width": null
          }
        },
        "9a8ae0d09037453d9912fd808066aaeb": {
          "model_module": "@jupyter-widgets/controls",
          "model_name": "ProgressStyleModel",
          "model_module_version": "1.5.0",
          "state": {
            "_model_module": "@jupyter-widgets/controls",
            "_model_module_version": "1.5.0",
            "_model_name": "ProgressStyleModel",
            "_view_count": null,
            "_view_module": "@jupyter-widgets/base",
            "_view_module_version": "1.2.0",
            "_view_name": "StyleView",
            "bar_color": null,
            "description_width": ""
          }
        },
        "0b8acdc76cef49ea94bf8d0da55c0234": {
          "model_module": "@jupyter-widgets/base",
          "model_name": "LayoutModel",
          "model_module_version": "1.2.0",
          "state": {
            "_model_module": "@jupyter-widgets/base",
            "_model_module_version": "1.2.0",
            "_model_name": "LayoutModel",
            "_view_count": null,
            "_view_module": "@jupyter-widgets/base",
            "_view_module_version": "1.2.0",
            "_view_name": "LayoutView",
            "align_content": null,
            "align_items": null,
            "align_self": null,
            "border": null,
            "bottom": null,
            "display": null,
            "flex": null,
            "flex_flow": null,
            "grid_area": null,
            "grid_auto_columns": null,
            "grid_auto_flow": null,
            "grid_auto_rows": null,
            "grid_column": null,
            "grid_gap": null,
            "grid_row": null,
            "grid_template_areas": null,
            "grid_template_columns": null,
            "grid_template_rows": null,
            "height": null,
            "justify_content": null,
            "justify_items": null,
            "left": null,
            "margin": null,
            "max_height": null,
            "max_width": null,
            "min_height": null,
            "min_width": null,
            "object_fit": null,
            "object_position": null,
            "order": null,
            "overflow": null,
            "overflow_x": null,
            "overflow_y": null,
            "padding": null,
            "right": null,
            "top": null,
            "visibility": null,
            "width": null
          }
        },
        "ca3054a0ca18457ebb2da7b67fddc212": {
          "model_module": "@jupyter-widgets/controls",
          "model_name": "DescriptionStyleModel",
          "model_module_version": "1.5.0",
          "state": {
            "_model_module": "@jupyter-widgets/controls",
            "_model_module_version": "1.5.0",
            "_model_name": "DescriptionStyleModel",
            "_view_count": null,
            "_view_module": "@jupyter-widgets/base",
            "_view_module_version": "1.2.0",
            "_view_name": "StyleView",
            "description_width": ""
          }
        },
        "5742cca915a147b7a8e63b9e993da1f2": {
          "model_module": "@jupyter-widgets/base",
          "model_name": "LayoutModel",
          "model_module_version": "1.2.0",
          "state": {
            "_model_module": "@jupyter-widgets/base",
            "_model_module_version": "1.2.0",
            "_model_name": "LayoutModel",
            "_view_count": null,
            "_view_module": "@jupyter-widgets/base",
            "_view_module_version": "1.2.0",
            "_view_name": "LayoutView",
            "align_content": null,
            "align_items": null,
            "align_self": null,
            "border": null,
            "bottom": null,
            "display": null,
            "flex": null,
            "flex_flow": null,
            "grid_area": null,
            "grid_auto_columns": null,
            "grid_auto_flow": null,
            "grid_auto_rows": null,
            "grid_column": null,
            "grid_gap": null,
            "grid_row": null,
            "grid_template_areas": null,
            "grid_template_columns": null,
            "grid_template_rows": null,
            "height": null,
            "justify_content": null,
            "justify_items": null,
            "left": null,
            "margin": null,
            "max_height": null,
            "max_width": null,
            "min_height": null,
            "min_width": null,
            "object_fit": null,
            "object_position": null,
            "order": null,
            "overflow": null,
            "overflow_x": null,
            "overflow_y": null,
            "padding": null,
            "right": null,
            "top": null,
            "visibility": null,
            "width": null
          }
        },
        "54c127e3cf3c42a18ec5471ec8d9a4e5": {
          "model_module": "@jupyter-widgets/controls",
          "model_name": "DescriptionStyleModel",
          "model_module_version": "1.5.0",
          "state": {
            "_model_module": "@jupyter-widgets/controls",
            "_model_module_version": "1.5.0",
            "_model_name": "DescriptionStyleModel",
            "_view_count": null,
            "_view_module": "@jupyter-widgets/base",
            "_view_module_version": "1.2.0",
            "_view_name": "StyleView",
            "description_width": ""
          }
        },
        "24d774d30fb94d6b9d7ff954df55f298": {
          "model_module": "@jupyter-widgets/controls",
          "model_name": "HTMLModel",
          "model_module_version": "1.5.0",
          "state": {
            "_dom_classes": [],
            "_model_module": "@jupyter-widgets/controls",
            "_model_module_version": "1.5.0",
            "_model_name": "HTMLModel",
            "_view_count": null,
            "_view_module": "@jupyter-widgets/controls",
            "_view_module_version": "1.5.0",
            "_view_name": "HTMLView",
            "description": "",
            "description_tooltip": null,
            "layout": "IPY_MODEL_0b8acdc76cef49ea94bf8d0da55c0234",
            "placeholder": "​",
            "style": "IPY_MODEL_ca3054a0ca18457ebb2da7b67fddc212",
            "value": "pytorch_model.bin: 100%"
          }
        },
        "593b9ecf72d6442e8a760f27352ca081": {
          "model_module": "@jupyter-widgets/controls",
          "model_name": "FloatProgressModel",
          "model_module_version": "1.5.0",
          "state": {
            "_dom_classes": [],
            "_model_module": "@jupyter-widgets/controls",
            "_model_module_version": "1.5.0",
            "_model_name": "FloatProgressModel",
            "_view_count": null,
            "_view_module": "@jupyter-widgets/controls",
            "_view_module_version": "1.5.0",
            "_view_name": "ProgressView",
            "bar_style": "success",
            "description": "",
            "description_tooltip": null,
            "layout": "IPY_MODEL_8c43b9bdb624486bb3cf56443baae445",
            "max": 2460457927,
            "min": 0,
            "orientation": "horizontal",
            "style": "IPY_MODEL_9a8ae0d09037453d9912fd808066aaeb",
            "value": 2460457927
          }
        },
        "40debf122cb44518819417acffac22d8": {
          "model_module": "@jupyter-widgets/controls",
          "model_name": "HTMLModel",
          "model_module_version": "1.5.0",
          "state": {
            "_dom_classes": [],
            "_model_module": "@jupyter-widgets/controls",
            "_model_module_version": "1.5.0",
            "_model_name": "HTMLModel",
            "_view_count": null,
            "_view_module": "@jupyter-widgets/controls",
            "_view_module_version": "1.5.0",
            "_view_name": "HTMLView",
            "description": "",
            "description_tooltip": null,
            "layout": "IPY_MODEL_5742cca915a147b7a8e63b9e993da1f2",
            "placeholder": "​",
            "style": "IPY_MODEL_54c127e3cf3c42a18ec5471ec8d9a4e5",
            "value": " 2.46G/2.46G [03:54&lt;00:00, 10.9MB/s]"
          }
        },
        "6cf7fcf1cb5f45fd94d254319e66269a": {
          "model_module": "@jupyter-widgets/base",
          "model_name": "LayoutModel",
          "model_module_version": "1.2.0",
          "state": {
            "_model_module": "@jupyter-widgets/base",
            "_model_module_version": "1.2.0",
            "_model_name": "LayoutModel",
            "_view_count": null,
            "_view_module": "@jupyter-widgets/base",
            "_view_module_version": "1.2.0",
            "_view_name": "LayoutView",
            "align_content": null,
            "align_items": null,
            "align_self": null,
            "border": null,
            "bottom": null,
            "display": null,
            "flex": null,
            "flex_flow": null,
            "grid_area": null,
            "grid_auto_columns": null,
            "grid_auto_flow": null,
            "grid_auto_rows": null,
            "grid_column": null,
            "grid_gap": null,
            "grid_row": null,
            "grid_template_areas": null,
            "grid_template_columns": null,
            "grid_template_rows": null,
            "height": null,
            "justify_content": null,
            "justify_items": null,
            "left": null,
            "margin": null,
            "max_height": null,
            "max_width": null,
            "min_height": null,
            "min_width": null,
            "object_fit": null,
            "object_position": null,
            "order": null,
            "overflow": null,
            "overflow_x": null,
            "overflow_y": null,
            "padding": null,
            "right": null,
            "top": null,
            "visibility": null,
            "width": null
          }
        },
        "a421d110f9154e02a944fa637d28d0ad": {
          "model_module": "@jupyter-widgets/controls",
          "model_name": "HBoxModel",
          "model_module_version": "1.5.0",
          "state": {
            "_dom_classes": [],
            "_model_module": "@jupyter-widgets/controls",
            "_model_module_version": "1.5.0",
            "_model_name": "HBoxModel",
            "_view_count": null,
            "_view_module": "@jupyter-widgets/controls",
            "_view_module_version": "1.5.0",
            "_view_name": "HBoxView",
            "box_style": "",
            "children": [
              "IPY_MODEL_24d774d30fb94d6b9d7ff954df55f298",
              "IPY_MODEL_593b9ecf72d6442e8a760f27352ca081",
              "IPY_MODEL_40debf122cb44518819417acffac22d8"
            ],
            "layout": "IPY_MODEL_6cf7fcf1cb5f45fd94d254319e66269a"
          }
        },
        "e53809be05a84e2c9f03e0839d911701": {
          "model_module": "@jupyter-widgets/base",
          "model_name": "LayoutModel",
          "model_module_version": "1.2.0",
          "state": {
            "_model_module": "@jupyter-widgets/base",
            "_model_module_version": "1.2.0",
            "_model_name": "LayoutModel",
            "_view_count": null,
            "_view_module": "@jupyter-widgets/base",
            "_view_module_version": "1.2.0",
            "_view_name": "LayoutView",
            "align_content": null,
            "align_items": null,
            "align_self": null,
            "border": null,
            "bottom": null,
            "display": null,
            "flex": null,
            "flex_flow": null,
            "grid_area": null,
            "grid_auto_columns": null,
            "grid_auto_flow": null,
            "grid_auto_rows": null,
            "grid_column": null,
            "grid_gap": null,
            "grid_row": null,
            "grid_template_areas": null,
            "grid_template_columns": null,
            "grid_template_rows": null,
            "height": null,
            "justify_content": null,
            "justify_items": null,
            "left": null,
            "margin": null,
            "max_height": null,
            "max_width": null,
            "min_height": null,
            "min_width": null,
            "object_fit": null,
            "object_position": null,
            "order": null,
            "overflow": null,
            "overflow_x": null,
            "overflow_y": null,
            "padding": null,
            "right": null,
            "top": null,
            "visibility": null,
            "width": null
          }
        },
        "1b6ec0f3da204f55b007b629bf4682ff": {
          "model_module": "@jupyter-widgets/controls",
          "model_name": "ProgressStyleModel",
          "model_module_version": "1.5.0",
          "state": {
            "_model_module": "@jupyter-widgets/controls",
            "_model_module_version": "1.5.0",
            "_model_name": "ProgressStyleModel",
            "_view_count": null,
            "_view_module": "@jupyter-widgets/base",
            "_view_module_version": "1.2.0",
            "_view_name": "StyleView",
            "bar_color": null,
            "description_width": ""
          }
        },
        "779b10056f054a70b466a436c4cc2e02": {
          "model_module": "@jupyter-widgets/base",
          "model_name": "LayoutModel",
          "model_module_version": "1.2.0",
          "state": {
            "_model_module": "@jupyter-widgets/base",
            "_model_module_version": "1.2.0",
            "_model_name": "LayoutModel",
            "_view_count": null,
            "_view_module": "@jupyter-widgets/base",
            "_view_module_version": "1.2.0",
            "_view_name": "LayoutView",
            "align_content": null,
            "align_items": null,
            "align_self": null,
            "border": null,
            "bottom": null,
            "display": null,
            "flex": null,
            "flex_flow": null,
            "grid_area": null,
            "grid_auto_columns": null,
            "grid_auto_flow": null,
            "grid_auto_rows": null,
            "grid_column": null,
            "grid_gap": null,
            "grid_row": null,
            "grid_template_areas": null,
            "grid_template_columns": null,
            "grid_template_rows": null,
            "height": null,
            "justify_content": null,
            "justify_items": null,
            "left": null,
            "margin": null,
            "max_height": null,
            "max_width": null,
            "min_height": null,
            "min_width": null,
            "object_fit": null,
            "object_position": null,
            "order": null,
            "overflow": null,
            "overflow_x": null,
            "overflow_y": null,
            "padding": null,
            "right": null,
            "top": null,
            "visibility": null,
            "width": null
          }
        },
        "79faf9a2ffec447290b1c8ec51b54694": {
          "model_module": "@jupyter-widgets/controls",
          "model_name": "DescriptionStyleModel",
          "model_module_version": "1.5.0",
          "state": {
            "_model_module": "@jupyter-widgets/controls",
            "_model_module_version": "1.5.0",
            "_model_name": "DescriptionStyleModel",
            "_view_count": null,
            "_view_module": "@jupyter-widgets/base",
            "_view_module_version": "1.2.0",
            "_view_name": "StyleView",
            "description_width": ""
          }
        },
        "424f805afb124c318f69518665e7162d": {
          "model_module": "@jupyter-widgets/base",
          "model_name": "LayoutModel",
          "model_module_version": "1.2.0",
          "state": {
            "_model_module": "@jupyter-widgets/base",
            "_model_module_version": "1.2.0",
            "_model_name": "LayoutModel",
            "_view_count": null,
            "_view_module": "@jupyter-widgets/base",
            "_view_module_version": "1.2.0",
            "_view_name": "LayoutView",
            "align_content": null,
            "align_items": null,
            "align_self": null,
            "border": null,
            "bottom": null,
            "display": null,
            "flex": null,
            "flex_flow": null,
            "grid_area": null,
            "grid_auto_columns": null,
            "grid_auto_flow": null,
            "grid_auto_rows": null,
            "grid_column": null,
            "grid_gap": null,
            "grid_row": null,
            "grid_template_areas": null,
            "grid_template_columns": null,
            "grid_template_rows": null,
            "height": null,
            "justify_content": null,
            "justify_items": null,
            "left": null,
            "margin": null,
            "max_height": null,
            "max_width": null,
            "min_height": null,
            "min_width": null,
            "object_fit": null,
            "object_position": null,
            "order": null,
            "overflow": null,
            "overflow_x": null,
            "overflow_y": null,
            "padding": null,
            "right": null,
            "top": null,
            "visibility": null,
            "width": null
          }
        },
        "633bd1fad3ad4c4e9af9e420b13a4ead": {
          "model_module": "@jupyter-widgets/controls",
          "model_name": "DescriptionStyleModel",
          "model_module_version": "1.5.0",
          "state": {
            "_model_module": "@jupyter-widgets/controls",
            "_model_module_version": "1.5.0",
            "_model_name": "DescriptionStyleModel",
            "_view_count": null,
            "_view_module": "@jupyter-widgets/base",
            "_view_module_version": "1.2.0",
            "_view_name": "StyleView",
            "description_width": ""
          }
        },
        "fa5f24084bae4d2fbd54b75de9567c2e": {
          "model_module": "@jupyter-widgets/controls",
          "model_name": "HTMLModel",
          "model_module_version": "1.5.0",
          "state": {
            "_dom_classes": [],
            "_model_module": "@jupyter-widgets/controls",
            "_model_module_version": "1.5.0",
            "_model_name": "HTMLModel",
            "_view_count": null,
            "_view_module": "@jupyter-widgets/controls",
            "_view_module_version": "1.5.0",
            "_view_name": "HTMLView",
            "description": "",
            "description_tooltip": null,
            "layout": "IPY_MODEL_779b10056f054a70b466a436c4cc2e02",
            "placeholder": "​",
            "style": "IPY_MODEL_79faf9a2ffec447290b1c8ec51b54694",
            "value": "model.safetensors: 100%"
          }
        },
        "6b8015d7f1914a7184a5779b4066b261": {
          "model_module": "@jupyter-widgets/controls",
          "model_name": "FloatProgressModel",
          "model_module_version": "1.5.0",
          "state": {
            "_dom_classes": [],
            "_model_module": "@jupyter-widgets/controls",
            "_model_module_version": "1.5.0",
            "_model_name": "FloatProgressModel",
            "_view_count": null,
            "_view_module": "@jupyter-widgets/controls",
            "_view_module_version": "1.5.0",
            "_view_name": "ProgressView",
            "bar_style": "success",
            "description": "",
            "description_tooltip": null,
            "layout": "IPY_MODEL_e53809be05a84e2c9f03e0839d911701",
            "max": 2460355968,
            "min": 0,
            "orientation": "horizontal",
            "style": "IPY_MODEL_1b6ec0f3da204f55b007b629bf4682ff",
            "value": 2460355968
          }
        },
        "5114429ec600469295191861763c31f8": {
          "model_module": "@jupyter-widgets/controls",
          "model_name": "HTMLModel",
          "model_module_version": "1.5.0",
          "state": {
            "_dom_classes": [],
            "_model_module": "@jupyter-widgets/controls",
            "_model_module_version": "1.5.0",
            "_model_name": "HTMLModel",
            "_view_count": null,
            "_view_module": "@jupyter-widgets/controls",
            "_view_module_version": "1.5.0",
            "_view_name": "HTMLView",
            "description": "",
            "description_tooltip": null,
            "layout": "IPY_MODEL_424f805afb124c318f69518665e7162d",
            "placeholder": "​",
            "style": "IPY_MODEL_633bd1fad3ad4c4e9af9e420b13a4ead",
            "value": " 2.46G/2.46G [04:09&lt;00:00, 12.9MB/s]"
          }
        },
        "8af69a68cdf241e9a8787302f8953fed": {
          "model_module": "@jupyter-widgets/base",
          "model_name": "LayoutModel",
          "model_module_version": "1.2.0",
          "state": {
            "_model_module": "@jupyter-widgets/base",
            "_model_module_version": "1.2.0",
            "_model_name": "LayoutModel",
            "_view_count": null,
            "_view_module": "@jupyter-widgets/base",
            "_view_module_version": "1.2.0",
            "_view_name": "LayoutView",
            "align_content": null,
            "align_items": null,
            "align_self": null,
            "border": null,
            "bottom": null,
            "display": null,
            "flex": null,
            "flex_flow": null,
            "grid_area": null,
            "grid_auto_columns": null,
            "grid_auto_flow": null,
            "grid_auto_rows": null,
            "grid_column": null,
            "grid_gap": null,
            "grid_row": null,
            "grid_template_areas": null,
            "grid_template_columns": null,
            "grid_template_rows": null,
            "height": null,
            "justify_content": null,
            "justify_items": null,
            "left": null,
            "margin": null,
            "max_height": null,
            "max_width": null,
            "min_height": null,
            "min_width": null,
            "object_fit": null,
            "object_position": null,
            "order": null,
            "overflow": null,
            "overflow_x": null,
            "overflow_y": null,
            "padding": null,
            "right": null,
            "top": null,
            "visibility": null,
            "width": null
          }
        },
        "8c4cded354ea429f9e775e98e8ffed2f": {
          "model_module": "@jupyter-widgets/controls",
          "model_name": "HBoxModel",
          "model_module_version": "1.5.0",
          "state": {
            "_dom_classes": [],
            "_model_module": "@jupyter-widgets/controls",
            "_model_module_version": "1.5.0",
            "_model_name": "HBoxModel",
            "_view_count": null,
            "_view_module": "@jupyter-widgets/controls",
            "_view_module_version": "1.5.0",
            "_view_name": "HBoxView",
            "box_style": "",
            "children": [
              "IPY_MODEL_fa5f24084bae4d2fbd54b75de9567c2e",
              "IPY_MODEL_6b8015d7f1914a7184a5779b4066b261",
              "IPY_MODEL_5114429ec600469295191861763c31f8"
            ],
            "layout": "IPY_MODEL_8af69a68cdf241e9a8787302f8953fed"
          }
        },
        "2cf5f95356c04e12a181bee0d9daeb29": {
          "model_module": "@jupyter-widgets/controls",
          "model_name": "HBoxModel",
          "model_module_version": "1.5.0",
          "state": {
            "_dom_classes": [],
            "_model_module": "@jupyter-widgets/controls",
            "_model_module_version": "1.5.0",
            "_model_name": "HBoxModel",
            "_view_count": null,
            "_view_module": "@jupyter-widgets/controls",
            "_view_module_version": "1.5.0",
            "_view_name": "HBoxView",
            "box_style": "",
            "children": [
              "IPY_MODEL_6a5db8d63847467b999f0af8e1ed8e03",
              "IPY_MODEL_fb5e6e7a370641efad8e9e5ee8c8e46d",
              "IPY_MODEL_bc34024c79a74f79a94f33ea8bc6701a"
            ],
            "layout": "IPY_MODEL_43dfd5dbd3ff4a54a6f4e1ad6959eece"
          }
        },
        "6a5db8d63847467b999f0af8e1ed8e03": {
          "model_module": "@jupyter-widgets/controls",
          "model_name": "HTMLModel",
          "model_module_version": "1.5.0",
          "state": {
            "_dom_classes": [],
            "_model_module": "@jupyter-widgets/controls",
            "_model_module_version": "1.5.0",
            "_model_name": "HTMLModel",
            "_view_count": null,
            "_view_module": "@jupyter-widgets/controls",
            "_view_module_version": "1.5.0",
            "_view_name": "HTMLView",
            "description": "",
            "description_tooltip": null,
            "layout": "IPY_MODEL_5b21b6adbe1b43dba344c6b202c5973a",
            "placeholder": "​",
            "style": "IPY_MODEL_9878f1224da64bd0a5c35a2a8cf09a18",
            "value": "generation_config.json: 100%"
          }
        },
        "fb5e6e7a370641efad8e9e5ee8c8e46d": {
          "model_module": "@jupyter-widgets/controls",
          "model_name": "FloatProgressModel",
          "model_module_version": "1.5.0",
          "state": {
            "_dom_classes": [],
            "_model_module": "@jupyter-widgets/controls",
            "_model_module_version": "1.5.0",
            "_model_name": "FloatProgressModel",
            "_view_count": null,
            "_view_module": "@jupyter-widgets/controls",
            "_view_module_version": "1.5.0",
            "_view_name": "ProgressView",
            "bar_style": "success",
            "description": "",
            "description_tooltip": null,
            "layout": "IPY_MODEL_7a8b870d72fe4b379d775e2b08ac9c1e",
            "max": 189,
            "min": 0,
            "orientation": "horizontal",
            "style": "IPY_MODEL_9bd463f09018452d949bc9de6505d102",
            "value": 189
          }
        },
        "bc34024c79a74f79a94f33ea8bc6701a": {
          "model_module": "@jupyter-widgets/controls",
          "model_name": "HTMLModel",
          "model_module_version": "1.5.0",
          "state": {
            "_dom_classes": [],
            "_model_module": "@jupyter-widgets/controls",
            "_model_module_version": "1.5.0",
            "_model_name": "HTMLModel",
            "_view_count": null,
            "_view_module": "@jupyter-widgets/controls",
            "_view_module_version": "1.5.0",
            "_view_name": "HTMLView",
            "description": "",
            "description_tooltip": null,
            "layout": "IPY_MODEL_c4169c2bb3b14b4e9c4da153fde6c88d",
            "placeholder": "​",
            "style": "IPY_MODEL_4f6149235b064aff973aa93f563334f9",
            "value": " 189/189 [00:00&lt;00:00, 14.9kB/s]"
          }
        },
        "43dfd5dbd3ff4a54a6f4e1ad6959eece": {
          "model_module": "@jupyter-widgets/base",
          "model_name": "LayoutModel",
          "model_module_version": "1.2.0",
          "state": {
            "_model_module": "@jupyter-widgets/base",
            "_model_module_version": "1.2.0",
            "_model_name": "LayoutModel",
            "_view_count": null,
            "_view_module": "@jupyter-widgets/base",
            "_view_module_version": "1.2.0",
            "_view_name": "LayoutView",
            "align_content": null,
            "align_items": null,
            "align_self": null,
            "border": null,
            "bottom": null,
            "display": null,
            "flex": null,
            "flex_flow": null,
            "grid_area": null,
            "grid_auto_columns": null,
            "grid_auto_flow": null,
            "grid_auto_rows": null,
            "grid_column": null,
            "grid_gap": null,
            "grid_row": null,
            "grid_template_areas": null,
            "grid_template_columns": null,
            "grid_template_rows": null,
            "height": null,
            "justify_content": null,
            "justify_items": null,
            "left": null,
            "margin": null,
            "max_height": null,
            "max_width": null,
            "min_height": null,
            "min_width": null,
            "object_fit": null,
            "object_position": null,
            "order": null,
            "overflow": null,
            "overflow_x": null,
            "overflow_y": null,
            "padding": null,
            "right": null,
            "top": null,
            "visibility": null,
            "width": null
          }
        },
        "5b21b6adbe1b43dba344c6b202c5973a": {
          "model_module": "@jupyter-widgets/base",
          "model_name": "LayoutModel",
          "model_module_version": "1.2.0",
          "state": {
            "_model_module": "@jupyter-widgets/base",
            "_model_module_version": "1.2.0",
            "_model_name": "LayoutModel",
            "_view_count": null,
            "_view_module": "@jupyter-widgets/base",
            "_view_module_version": "1.2.0",
            "_view_name": "LayoutView",
            "align_content": null,
            "align_items": null,
            "align_self": null,
            "border": null,
            "bottom": null,
            "display": null,
            "flex": null,
            "flex_flow": null,
            "grid_area": null,
            "grid_auto_columns": null,
            "grid_auto_flow": null,
            "grid_auto_rows": null,
            "grid_column": null,
            "grid_gap": null,
            "grid_row": null,
            "grid_template_areas": null,
            "grid_template_columns": null,
            "grid_template_rows": null,
            "height": null,
            "justify_content": null,
            "justify_items": null,
            "left": null,
            "margin": null,
            "max_height": null,
            "max_width": null,
            "min_height": null,
            "min_width": null,
            "object_fit": null,
            "object_position": null,
            "order": null,
            "overflow": null,
            "overflow_x": null,
            "overflow_y": null,
            "padding": null,
            "right": null,
            "top": null,
            "visibility": null,
            "width": null
          }
        },
        "9878f1224da64bd0a5c35a2a8cf09a18": {
          "model_module": "@jupyter-widgets/controls",
          "model_name": "DescriptionStyleModel",
          "model_module_version": "1.5.0",
          "state": {
            "_model_module": "@jupyter-widgets/controls",
            "_model_module_version": "1.5.0",
            "_model_name": "DescriptionStyleModel",
            "_view_count": null,
            "_view_module": "@jupyter-widgets/base",
            "_view_module_version": "1.2.0",
            "_view_name": "StyleView",
            "description_width": ""
          }
        },
        "7a8b870d72fe4b379d775e2b08ac9c1e": {
          "model_module": "@jupyter-widgets/base",
          "model_name": "LayoutModel",
          "model_module_version": "1.2.0",
          "state": {
            "_model_module": "@jupyter-widgets/base",
            "_model_module_version": "1.2.0",
            "_model_name": "LayoutModel",
            "_view_count": null,
            "_view_module": "@jupyter-widgets/base",
            "_view_module_version": "1.2.0",
            "_view_name": "LayoutView",
            "align_content": null,
            "align_items": null,
            "align_self": null,
            "border": null,
            "bottom": null,
            "display": null,
            "flex": null,
            "flex_flow": null,
            "grid_area": null,
            "grid_auto_columns": null,
            "grid_auto_flow": null,
            "grid_auto_rows": null,
            "grid_column": null,
            "grid_gap": null,
            "grid_row": null,
            "grid_template_areas": null,
            "grid_template_columns": null,
            "grid_template_rows": null,
            "height": null,
            "justify_content": null,
            "justify_items": null,
            "left": null,
            "margin": null,
            "max_height": null,
            "max_width": null,
            "min_height": null,
            "min_width": null,
            "object_fit": null,
            "object_position": null,
            "order": null,
            "overflow": null,
            "overflow_x": null,
            "overflow_y": null,
            "padding": null,
            "right": null,
            "top": null,
            "visibility": null,
            "width": null
          }
        },
        "9bd463f09018452d949bc9de6505d102": {
          "model_module": "@jupyter-widgets/controls",
          "model_name": "ProgressStyleModel",
          "model_module_version": "1.5.0",
          "state": {
            "_model_module": "@jupyter-widgets/controls",
            "_model_module_version": "1.5.0",
            "_model_name": "ProgressStyleModel",
            "_view_count": null,
            "_view_module": "@jupyter-widgets/base",
            "_view_module_version": "1.2.0",
            "_view_name": "StyleView",
            "bar_color": null,
            "description_width": ""
          }
        },
        "c4169c2bb3b14b4e9c4da153fde6c88d": {
          "model_module": "@jupyter-widgets/base",
          "model_name": "LayoutModel",
          "model_module_version": "1.2.0",
          "state": {
            "_model_module": "@jupyter-widgets/base",
            "_model_module_version": "1.2.0",
            "_model_name": "LayoutModel",
            "_view_count": null,
            "_view_module": "@jupyter-widgets/base",
            "_view_module_version": "1.2.0",
            "_view_name": "LayoutView",
            "align_content": null,
            "align_items": null,
            "align_self": null,
            "border": null,
            "bottom": null,
            "display": null,
            "flex": null,
            "flex_flow": null,
            "grid_area": null,
            "grid_auto_columns": null,
            "grid_auto_flow": null,
            "grid_auto_rows": null,
            "grid_column": null,
            "grid_gap": null,
            "grid_row": null,
            "grid_template_areas": null,
            "grid_template_columns": null,
            "grid_template_rows": null,
            "height": null,
            "justify_content": null,
            "justify_items": null,
            "left": null,
            "margin": null,
            "max_height": null,
            "max_width": null,
            "min_height": null,
            "min_width": null,
            "object_fit": null,
            "object_position": null,
            "order": null,
            "overflow": null,
            "overflow_x": null,
            "overflow_y": null,
            "padding": null,
            "right": null,
            "top": null,
            "visibility": null,
            "width": null
          }
        },
        "4f6149235b064aff973aa93f563334f9": {
          "model_module": "@jupyter-widgets/controls",
          "model_name": "DescriptionStyleModel",
          "model_module_version": "1.5.0",
          "state": {
            "_model_module": "@jupyter-widgets/controls",
            "_model_module_version": "1.5.0",
            "_model_name": "DescriptionStyleModel",
            "_view_count": null,
            "_view_module": "@jupyter-widgets/base",
            "_view_module_version": "1.2.0",
            "_view_name": "StyleView",
            "description_width": ""
          }
        },
        "529c783fd1bb49d78fde21eae074b0fb": {
          "model_module": "@jupyter-widgets/controls",
          "model_name": "HBoxModel",
          "model_module_version": "1.5.0",
          "state": {
            "_dom_classes": [],
            "_model_module": "@jupyter-widgets/controls",
            "_model_module_version": "1.5.0",
            "_model_name": "HBoxModel",
            "_view_count": null,
            "_view_module": "@jupyter-widgets/controls",
            "_view_module_version": "1.5.0",
            "_view_name": "HBoxView",
            "box_style": "",
            "children": [
              "IPY_MODEL_e31e088c21414a1095fb21bf50a3a340",
              "IPY_MODEL_3bd9838cecc5486fadfc9675cf5b3ed9",
              "IPY_MODEL_e15b79c6fbe34fe48102a65ca6fe5a5e"
            ],
            "layout": "IPY_MODEL_087225410c8b4a2aa0ba822cfcbd139f"
          }
        },
        "e31e088c21414a1095fb21bf50a3a340": {
          "model_module": "@jupyter-widgets/controls",
          "model_name": "HTMLModel",
          "model_module_version": "1.5.0",
          "state": {
            "_dom_classes": [],
            "_model_module": "@jupyter-widgets/controls",
            "_model_module_version": "1.5.0",
            "_model_name": "HTMLModel",
            "_view_count": null,
            "_view_module": "@jupyter-widgets/controls",
            "_view_module_version": "1.5.0",
            "_view_name": "HTMLView",
            "description": "",
            "description_tooltip": null,
            "layout": "IPY_MODEL_a4faaecf4ff74064b725c7419f5549ec",
            "placeholder": "​",
            "style": "IPY_MODEL_044da0eee4344419befda10aeef95c78",
            "value": "generation_config.json: 100%"
          }
        },
        "3bd9838cecc5486fadfc9675cf5b3ed9": {
          "model_module": "@jupyter-widgets/controls",
          "model_name": "FloatProgressModel",
          "model_module_version": "1.5.0",
          "state": {
            "_dom_classes": [],
            "_model_module": "@jupyter-widgets/controls",
            "_model_module_version": "1.5.0",
            "_model_name": "FloatProgressModel",
            "_view_count": null,
            "_view_module": "@jupyter-widgets/controls",
            "_view_module_version": "1.5.0",
            "_view_name": "ProgressView",
            "bar_style": "success",
            "description": "",
            "description_tooltip": null,
            "layout": "IPY_MODEL_5a35c8d7e4a24cd3b4a5373a39184571",
            "max": 4908,
            "min": 0,
            "orientation": "horizontal",
            "style": "IPY_MODEL_47a7e040a44a4bd2938a303138c0e404",
            "value": 4908
          }
        },
        "e15b79c6fbe34fe48102a65ca6fe5a5e": {
          "model_module": "@jupyter-widgets/controls",
          "model_name": "HTMLModel",
          "model_module_version": "1.5.0",
          "state": {
            "_dom_classes": [],
            "_model_module": "@jupyter-widgets/controls",
            "_model_module_version": "1.5.0",
            "_model_name": "HTMLModel",
            "_view_count": null,
            "_view_module": "@jupyter-widgets/controls",
            "_view_module_version": "1.5.0",
            "_view_name": "HTMLView",
            "description": "",
            "description_tooltip": null,
            "layout": "IPY_MODEL_c0a032d4ca6d4ab1b943c87d84abc53d",
            "placeholder": "​",
            "style": "IPY_MODEL_9f2543a11edf4b58b508f44fe27bf003",
            "value": " 4.91k/4.91k [00:00&lt;00:00, 345kB/s]"
          }
        },
        "087225410c8b4a2aa0ba822cfcbd139f": {
          "model_module": "@jupyter-widgets/base",
          "model_name": "LayoutModel",
          "model_module_version": "1.2.0",
          "state": {
            "_model_module": "@jupyter-widgets/base",
            "_model_module_version": "1.2.0",
            "_model_name": "LayoutModel",
            "_view_count": null,
            "_view_module": "@jupyter-widgets/base",
            "_view_module_version": "1.2.0",
            "_view_name": "LayoutView",
            "align_content": null,
            "align_items": null,
            "align_self": null,
            "border": null,
            "bottom": null,
            "display": null,
            "flex": null,
            "flex_flow": null,
            "grid_area": null,
            "grid_auto_columns": null,
            "grid_auto_flow": null,
            "grid_auto_rows": null,
            "grid_column": null,
            "grid_gap": null,
            "grid_row": null,
            "grid_template_areas": null,
            "grid_template_columns": null,
            "grid_template_rows": null,
            "height": null,
            "justify_content": null,
            "justify_items": null,
            "left": null,
            "margin": null,
            "max_height": null,
            "max_width": null,
            "min_height": null,
            "min_width": null,
            "object_fit": null,
            "object_position": null,
            "order": null,
            "overflow": null,
            "overflow_x": null,
            "overflow_y": null,
            "padding": null,
            "right": null,
            "top": null,
            "visibility": null,
            "width": null
          }
        },
        "a4faaecf4ff74064b725c7419f5549ec": {
          "model_module": "@jupyter-widgets/base",
          "model_name": "LayoutModel",
          "model_module_version": "1.2.0",
          "state": {
            "_model_module": "@jupyter-widgets/base",
            "_model_module_version": "1.2.0",
            "_model_name": "LayoutModel",
            "_view_count": null,
            "_view_module": "@jupyter-widgets/base",
            "_view_module_version": "1.2.0",
            "_view_name": "LayoutView",
            "align_content": null,
            "align_items": null,
            "align_self": null,
            "border": null,
            "bottom": null,
            "display": null,
            "flex": null,
            "flex_flow": null,
            "grid_area": null,
            "grid_auto_columns": null,
            "grid_auto_flow": null,
            "grid_auto_rows": null,
            "grid_column": null,
            "grid_gap": null,
            "grid_row": null,
            "grid_template_areas": null,
            "grid_template_columns": null,
            "grid_template_rows": null,
            "height": null,
            "justify_content": null,
            "justify_items": null,
            "left": null,
            "margin": null,
            "max_height": null,
            "max_width": null,
            "min_height": null,
            "min_width": null,
            "object_fit": null,
            "object_position": null,
            "order": null,
            "overflow": null,
            "overflow_x": null,
            "overflow_y": null,
            "padding": null,
            "right": null,
            "top": null,
            "visibility": null,
            "width": null
          }
        },
        "044da0eee4344419befda10aeef95c78": {
          "model_module": "@jupyter-widgets/controls",
          "model_name": "DescriptionStyleModel",
          "model_module_version": "1.5.0",
          "state": {
            "_model_module": "@jupyter-widgets/controls",
            "_model_module_version": "1.5.0",
            "_model_name": "DescriptionStyleModel",
            "_view_count": null,
            "_view_module": "@jupyter-widgets/base",
            "_view_module_version": "1.2.0",
            "_view_name": "StyleView",
            "description_width": ""
          }
        },
        "5a35c8d7e4a24cd3b4a5373a39184571": {
          "model_module": "@jupyter-widgets/base",
          "model_name": "LayoutModel",
          "model_module_version": "1.2.0",
          "state": {
            "_model_module": "@jupyter-widgets/base",
            "_model_module_version": "1.2.0",
            "_model_name": "LayoutModel",
            "_view_count": null,
            "_view_module": "@jupyter-widgets/base",
            "_view_module_version": "1.2.0",
            "_view_name": "LayoutView",
            "align_content": null,
            "align_items": null,
            "align_self": null,
            "border": null,
            "bottom": null,
            "display": null,
            "flex": null,
            "flex_flow": null,
            "grid_area": null,
            "grid_auto_columns": null,
            "grid_auto_flow": null,
            "grid_auto_rows": null,
            "grid_column": null,
            "grid_gap": null,
            "grid_row": null,
            "grid_template_areas": null,
            "grid_template_columns": null,
            "grid_template_rows": null,
            "height": null,
            "justify_content": null,
            "justify_items": null,
            "left": null,
            "margin": null,
            "max_height": null,
            "max_width": null,
            "min_height": null,
            "min_width": null,
            "object_fit": null,
            "object_position": null,
            "order": null,
            "overflow": null,
            "overflow_x": null,
            "overflow_y": null,
            "padding": null,
            "right": null,
            "top": null,
            "visibility": null,
            "width": null
          }
        },
        "47a7e040a44a4bd2938a303138c0e404": {
          "model_module": "@jupyter-widgets/controls",
          "model_name": "ProgressStyleModel",
          "model_module_version": "1.5.0",
          "state": {
            "_model_module": "@jupyter-widgets/controls",
            "_model_module_version": "1.5.0",
            "_model_name": "ProgressStyleModel",
            "_view_count": null,
            "_view_module": "@jupyter-widgets/base",
            "_view_module_version": "1.2.0",
            "_view_name": "StyleView",
            "bar_color": null,
            "description_width": ""
          }
        },
        "c0a032d4ca6d4ab1b943c87d84abc53d": {
          "model_module": "@jupyter-widgets/base",
          "model_name": "LayoutModel",
          "model_module_version": "1.2.0",
          "state": {
            "_model_module": "@jupyter-widgets/base",
            "_model_module_version": "1.2.0",
            "_model_name": "LayoutModel",
            "_view_count": null,
            "_view_module": "@jupyter-widgets/base",
            "_view_module_version": "1.2.0",
            "_view_name": "LayoutView",
            "align_content": null,
            "align_items": null,
            "align_self": null,
            "border": null,
            "bottom": null,
            "display": null,
            "flex": null,
            "flex_flow": null,
            "grid_area": null,
            "grid_auto_columns": null,
            "grid_auto_flow": null,
            "grid_auto_rows": null,
            "grid_column": null,
            "grid_gap": null,
            "grid_row": null,
            "grid_template_areas": null,
            "grid_template_columns": null,
            "grid_template_rows": null,
            "height": null,
            "justify_content": null,
            "justify_items": null,
            "left": null,
            "margin": null,
            "max_height": null,
            "max_width": null,
            "min_height": null,
            "min_width": null,
            "object_fit": null,
            "object_position": null,
            "order": null,
            "overflow": null,
            "overflow_x": null,
            "overflow_y": null,
            "padding": null,
            "right": null,
            "top": null,
            "visibility": null,
            "width": null
          }
        },
        "9f2543a11edf4b58b508f44fe27bf003": {
          "model_module": "@jupyter-widgets/controls",
          "model_name": "DescriptionStyleModel",
          "model_module_version": "1.5.0",
          "state": {
            "_model_module": "@jupyter-widgets/controls",
            "_model_module_version": "1.5.0",
            "_model_name": "DescriptionStyleModel",
            "_view_count": null,
            "_view_module": "@jupyter-widgets/base",
            "_view_module_version": "1.2.0",
            "_view_name": "StyleView",
            "description_width": ""
          }
        }
      }
    }
  },
  "nbformat": 4,
  "nbformat_minor": 0
}